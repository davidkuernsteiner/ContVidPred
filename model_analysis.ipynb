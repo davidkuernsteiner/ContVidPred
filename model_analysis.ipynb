{
 "cells": [
  {
   "cell_type": "code",
   "execution_count": 1,
   "metadata": {},
   "outputs": [
    {
     "name": "stderr",
     "output_type": "stream",
     "text": [
      "/home/david/projects/ViTSSM/vitssm/models/upt/_next_frame.py:118: FutureWarning: You are using `torch.load` with `weights_only=False` (the current default value), which uses the default pickle module implicitly. It is possible to construct malicious pickle data which will execute arbitrary code during unpickling (See https://github.com/pytorch/pytorch/blob/main/SECURITY.md#untrusted-models for more details). In a future release, the default value for `weights_only` will be flipped to `True`. This limits the functions that could be executed during unpickling. Arbitrary objects will no longer be allowed to be loaded via this mode unless they are explicitly allowlisted by the user via `torch.serialization.add_safe_globals`. We recommend you start setting `weights_only=True` for any use case where you don't have full control of the loaded file. Please open an issue on GitHub for any issues related to this experimental feature.\n",
      "  checkpoint = torch.load(upt_autoencoder_checkpoint_path)\n",
      "/tmp/ipykernel_29257/2840995078.py:19: FutureWarning: You are using `torch.load` with `weights_only=False` (the current default value), which uses the default pickle module implicitly. It is possible to construct malicious pickle data which will execute arbitrary code during unpickling (See https://github.com/pytorch/pytorch/blob/main/SECURITY.md#untrusted-models for more details). In a future release, the default value for `weights_only` will be flipped to `True`. This limits the functions that could be executed during unpickling. Arbitrary objects will no longer be allowed to be loaded via this mode unless they are explicitly allowlisted by the user via `torch.serialization.add_safe_globals`. We recommend you start setting `weights_only=True` for any use case where you don't have full control of the loaded file. Please open an issue on GitHub for any issues related to this experimental feature.\n",
      "  ckpt = torch.load(app_checkpoint_path)\n"
     ]
    },
    {
     "data": {
      "text/plain": [
       "<All keys matched successfully>"
      ]
     },
     "execution_count": 1,
     "metadata": {},
     "output_type": "execute_result"
    }
   ],
   "source": [
    "from omegaconf import OmegaConf\n",
    "from vitssm.models import build_model\n",
    "from vitssm.data import get_dataset\n",
    "import torch\n",
    "from vitssm.utils.visual import model_output_to_video, display_video_frames_in_grid, save_videos_as_grid_gif\n",
    "from einops import rearrange, repeat\n",
    "from torchvision.io import write_video\n",
    "import imageio\n",
    "import numpy as np\n",
    "\n",
    "config = OmegaConf.load(\"configs/UPT/upt_3d_t_32_config.yml\")\n",
    "config.dataset.load_in_memory = False\n",
    "config.model.upt_autoencoder_checkpoint_path = \"/home/david/projects/ViTSSM/checkpoints/ViTSSM/UPT/vmdsprites-UPT_VAE_T-32.pth\"\n",
    "\n",
    "model = build_model(config.model)\n",
    "dataset = get_dataset(config.dataset)\n",
    "\n",
    "app_checkpoint_path = \"/home/david/projects/ViTSSM/checkpoints/ViTSSM/UPT/vmdsprites-UPT_3D_T-32.pth\"\n",
    "ckpt = torch.load(app_checkpoint_path)\n",
    "app_ckpt = {key[13:]: val for key, val in ckpt[\"model\"].items() if key.startswith(\"approximator\")}\n",
    "\n",
    "model.approximator.load_state_dict(app_ckpt)"
   ]
  },
  {
   "cell_type": "code",
   "execution_count": 9,
   "metadata": {},
   "outputs": [
    {
     "name": "stdout",
     "output_type": "stream",
     "text": [
      "torch.Size([1, 4, 3, 32, 32])\n"
     ]
    }
   ],
   "source": [
    "x = dataset[1]\n",
    "x_fast = torch.cat([x[0], x[1]], dim=0)\n",
    "x_fast = x_fast[::2, ...]\n",
    "x = x[0].unsqueeze(0)\n",
    "x_fast = x_fast.unsqueeze(0)\n",
    "print(x.shape)"
   ]
  },
  {
   "cell_type": "code",
   "execution_count": 11,
   "metadata": {},
   "outputs": [
    {
     "name": "stdout",
     "output_type": "stream",
     "text": [
      "Saved GIF to x_pred.gif\n"
     ]
    }
   ],
   "source": [
    "from vitssm.utils.visual import model_output_to_video, display_video_frames_in_grid\n",
    "from einops import rearrange, repeat\n",
    "from torchvision.io import write_video\n",
    "import imageio\n",
    "import numpy as np\n",
    "\n",
    "bs, cl, ch, ht, wt = x.shape\n",
    "spatial_scale = 1\n",
    "temporal_scale = 1\n",
    "n_steps = 128\n",
    "device = torch.device(\"cuda\")\n",
    "\n",
    "\n",
    "model.eval()\n",
    "model.to(device)\n",
    "\n",
    "x_pred = rearrange(\n",
    "    model_output_to_video(\n",
    "        model.rollout_frames(x.to(device), n_steps=n_steps, temporal_scale=temporal_scale, spatial_scale=spatial_scale).squeeze(0).cpu(),\n",
    "    ),\n",
    "    \"... c h w -> ... h w c\",\n",
    ")\n",
    "x_pred_fast = rearrange(\n",
    "    model_output_to_video(\n",
    "        model.rollout_frames(x_fast.to(device), n_steps=n_steps, temporal_scale=temporal_scale, spatial_scale=spatial_scale).squeeze(0).cpu(),\n",
    "    ),\n",
    "    \"... c h w -> ... h w c\",\n",
    ")\n",
    "\n",
    "#print(x_pred.shape)\n",
    "#display_video_frames_in_grid(x_pred)\n",
    "#imageio.mimsave(\"x_pred_slow.gif\", [np.array(x) for x in rearrange(model_output_to_video(x_pred), \"... c h w -> ... h w c\")])\n",
    "save_videos_as_grid_gif([x_pred, x_pred_fast], (1, 2), \"x_pred.gif\")"
   ]
  },
  {
   "cell_type": "code",
   "execution_count": null,
   "metadata": {},
   "outputs": [],
   "source": []
  },
  {
   "cell_type": "code",
   "execution_count": null,
   "metadata": {},
   "outputs": [],
   "source": []
  }
 ],
 "metadata": {
  "kernelspec": {
   "display_name": "vitssm",
   "language": "python",
   "name": "python3"
  },
  "language_info": {
   "codemirror_mode": {
    "name": "ipython",
    "version": 3
   },
   "file_extension": ".py",
   "mimetype": "text/x-python",
   "name": "python",
   "nbconvert_exporter": "python",
   "pygments_lexer": "ipython3",
   "version": "3.12.6"
  }
 },
 "nbformat": 4,
 "nbformat_minor": 2
}
