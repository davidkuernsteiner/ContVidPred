{
 "cells": [
  {
   "cell_type": "code",
   "execution_count": 194,
   "metadata": {},
   "outputs": [
    {
     "name": "stderr",
     "output_type": "stream",
     "text": [
      "/home/david/projects/ViTSSM/vitssm/models/upt/_next_frame.py:118: FutureWarning: You are using `torch.load` with `weights_only=False` (the current default value), which uses the default pickle module implicitly. It is possible to construct malicious pickle data which will execute arbitrary code during unpickling (See https://github.com/pytorch/pytorch/blob/main/SECURITY.md#untrusted-models for more details). In a future release, the default value for `weights_only` will be flipped to `True`. This limits the functions that could be executed during unpickling. Arbitrary objects will no longer be allowed to be loaded via this mode unless they are explicitly allowlisted by the user via `torch.serialization.add_safe_globals`. We recommend you start setting `weights_only=True` for any use case where you don't have full control of the loaded file. Please open an issue on GitHub for any issues related to this experimental feature.\n",
      "  checkpoint = torch.load(upt_autoencoder_checkpoint_path)\n",
      "/tmp/ipykernel_963/1275388101.py:23: FutureWarning: You are using `torch.load` with `weights_only=False` (the current default value), which uses the default pickle module implicitly. It is possible to construct malicious pickle data which will execute arbitrary code during unpickling (See https://github.com/pytorch/pytorch/blob/main/SECURITY.md#untrusted-models for more details). In a future release, the default value for `weights_only` will be flipped to `True`. This limits the functions that could be executed during unpickling. Arbitrary objects will no longer be allowed to be loaded via this mode unless they are explicitly allowlisted by the user via `torch.serialization.add_safe_globals`. We recommend you start setting `weights_only=True` for any use case where you don't have full control of the loaded file. Please open an issue on GitHub for any issues related to this experimental feature.\n",
      "  ckpt = torch.load(app_checkpoint_path)\n",
      "/home/david/projects/ViTSSM/vitssm/models/diffusion/gaussian_diffusion.py:185: RuntimeWarning: divide by zero encountered in divide\n",
      "  self.sqrt_recip_alphas_cumprod = np.sqrt(1.0 / self.alphas_cumprod)\n",
      "/home/david/projects/ViTSSM/vitssm/models/diffusion/gaussian_diffusion.py:186: RuntimeWarning: divide by zero encountered in divide\n",
      "  self.sqrt_recipm1_alphas_cumprod = np.sqrt(1.0 / self.alphas_cumprod - 1)\n",
      "/tmp/ipykernel_963/1275388101.py:35: FutureWarning: You are using `torch.load` with `weights_only=False` (the current default value), which uses the default pickle module implicitly. It is possible to construct malicious pickle data which will execute arbitrary code during unpickling (See https://github.com/pytorch/pytorch/blob/main/SECURITY.md#untrusted-models for more details). In a future release, the default value for `weights_only` will be flipped to `True`. This limits the functions that could be executed during unpickling. Arbitrary objects will no longer be allowed to be loaded via this mode unless they are explicitly allowlisted by the user via `torch.serialization.add_safe_globals`. We recommend you start setting `weights_only=True` for any use case where you don't have full control of the loaded file. Please open an issue on GitHub for any issues related to this experimental feature.\n",
      "  unet_ckpt = torch.load(\"/home/david/projects/ViTSSM/checkpoints/ContVidPred/UNET/vmdsprites-0-UNet_T-32.pth\")\n",
      "/tmp/ipykernel_963/1275388101.py:45: FutureWarning: You are using `torch.load` with `weights_only=False` (the current default value), which uses the default pickle module implicitly. It is possible to construct malicious pickle data which will execute arbitrary code during unpickling (See https://github.com/pytorch/pytorch/blob/main/SECURITY.md#untrusted-models for more details). In a future release, the default value for `weights_only` will be flipped to `True`. This limits the functions that could be executed during unpickling. Arbitrary objects will no longer be allowed to be loaded via this mode unless they are explicitly allowlisted by the user via `torch.serialization.add_safe_globals`. We recommend you start setting `weights_only=True` for any use case where you don't have full control of the loaded file. Please open an issue on GitHub for any issues related to this experimental feature.\n",
      "  dit_ckpt = torch.load(\"/home/david/projects/ViTSSM/checkpoints/ContVidPred/DIT/vmdsprites-0-DiT_T_2-32.pth\")\n"
     ]
    },
    {
     "data": {
      "text/plain": [
       "<All keys matched successfully>"
      ]
     },
     "execution_count": 194,
     "metadata": {},
     "output_type": "execute_result"
    }
   ],
   "source": [
    "from omegaconf import OmegaConf\n",
    "from vitssm.models import build_model\n",
    "from vitssm.data import get_dataset\n",
    "import torch\n",
    "from vitssm.utils.visual import model_output_to_video, display_video_frames_in_grid, save_videos_as_grid_gif\n",
    "from einops import rearrange, repeat\n",
    "from torchvision.io import write_video\n",
    "import imageio\n",
    "import matplotlib.pyplot as plt\n",
    "import numpy as np\n",
    "\n",
    "config = OmegaConf.load(\"/home/david/projects/ViTSSM/configs/UPT/FINAL_upt_3d_t_cont_config.yml\")\n",
    "config.dataset.load_in_memory = False\n",
    "config.dataset.mode = \"test\"\n",
    "config.dataset.resolution = 32\n",
    "config.dataset.clip_length = 36\n",
    "config.model.upt_autoencoder_checkpoint_path = \"/home/david/projects/ViTSSM/checkpoints/ContVidPred/UPT/vmdsprites-0-UPT_VAE_T-cont-scale.pth\"\n",
    "\n",
    "upt_model = build_model(config.model)\n",
    "dataset = get_dataset(config.dataset)\n",
    "\n",
    "app_checkpoint_path = \"/home/david/projects/ViTSSM/checkpoints/ContVidPred/UPT/vmdsprites-0-UPT_3D_T-cont-scale.pth\"\n",
    "ckpt = torch.load(app_checkpoint_path)\n",
    "app_ckpt = {key[13:]: val for key, val in ckpt[\"model\"].items() if key.startswith(\"approximator\")}\n",
    "\n",
    "upt_model.approximator.load_state_dict(app_ckpt)\n",
    "\n",
    "unet_config = OmegaConf.load(\"/home/david/projects/ViTSSM/configs/UNET/FINAL_unet_t_32_config.yml\")\n",
    "unet_config.dataset.load_in_memory = False\n",
    "unet_config.dataset.mode = \"test\"\n",
    "unet_config.dataset.resolution = 32\n",
    "unet_config.model.timestep_respacing = \"trailing4\"\n",
    "\n",
    "unet_model = build_model(unet_config.model)\n",
    "unet_ckpt = torch.load(\"/home/david/projects/ViTSSM/checkpoints/ContVidPred/UNET/vmdsprites-0-UNet_T-32.pth\")\n",
    "unet_model.load_state_dict(unet_ckpt[\"model\"])\n",
    "\n",
    "dit_config = OmegaConf.load(\"/home/david/projects/ViTSSM/configs/DIT/FINAL_dit_t_2_32_config.yml\")\n",
    "dit_config.dataset.load_in_memory = False\n",
    "dit_config.dataset.mode = \"test\"\n",
    "dit_config.dataset.resolution = 32\n",
    "dit_config.model.timestep_respacing = \"trailing4\"\n",
    "\n",
    "dit_model = build_model(dit_config.model)\n",
    "dit_ckpt = torch.load(\"/home/david/projects/ViTSSM/checkpoints/ContVidPred/DIT/vmdsprites-0-DiT_T_2-32.pth\")\n",
    "dit_model.load_state_dict(dit_ckpt[\"model\"])\n"
   ]
  },
  {
   "cell_type": "code",
   "execution_count": 195,
   "metadata": {},
   "outputs": [
    {
     "name": "stdout",
     "output_type": "stream",
     "text": [
      "torch.Size([1, 4, 3, 32, 32]) torch.Size([1, 32, 3, 32, 32])\n"
     ]
    }
   ],
   "source": [
    "x = dataset[50]\n",
    "x, y = x[0].unsqueeze(0), x[1].unsqueeze(0)\n",
    "print(x.shape, y.shape)"
   ]
  },
  {
   "cell_type": "markdown",
   "metadata": {},
   "source": [
    "# Rollout comparison"
   ]
  },
  {
   "cell_type": "code",
   "execution_count": 203,
   "metadata": {},
   "outputs": [],
   "source": [
    "from vitssm.utils.visual import model_output_to_video, display_video_frames_in_grid\n",
    "from einops import rearrange, repeat\n",
    "from torchvision.io import write_video\n",
    "import imageio\n",
    "import numpy as np\n",
    "\n",
    "bs, cl, ch, ht, wt = x.shape\n",
    "spatial_scale = 1\n",
    "temporal_scale = 1\n",
    "n_steps = 32\n",
    "device = torch.device(\"cuda\")\n",
    "\n",
    "\n",
    "upt_model.eval()\n",
    "upt_model.to(device)\n",
    "unet_model.eval()\n",
    "unet_model.to(device)\n",
    "dit_model.eval()\n",
    "dit_model.to(device)\n",
    "\n",
    "x_pred_upt_1 = rearrange(\n",
    "    model_output_to_video(\n",
    "        upt_model.rollout_frames(x.to(device), n_steps=n_steps, temporal_scale=temporal_scale, spatial_scale=1).squeeze(0).cpu(),\n",
    "    ),\n",
    "    \"... c h w -> ... h w c\",\n",
    ")\n",
    "\n",
    "#x_pred_upt_2 = rearrange(\n",
    "#    model_output_to_video(\n",
    "#        upt_model.rollout_frames(x.to(device), n_steps=n_steps, temporal_scale=temporal_scale, spatial_scale=2).squeeze(0).cpu(),\n",
    "#    ),\n",
    "#    \"... c h w -> ... h w c\",\n",
    "#)\n",
    "#\n",
    "#x_pred_upt_3 = rearrange(\n",
    "#    model_output_to_video(\n",
    "#        upt_model.rollout_frames(x.to(device), n_steps=n_steps, temporal_scale=temporal_scale, spatial_scale=3).squeeze(0).cpu(),\n",
    "#    ),\n",
    "#    \"... c h w -> ... h w c\",\n",
    "#)\n",
    "#\n",
    "#x_pred_upt_4 = rearrange(\n",
    "#    model_output_to_video(\n",
    "#        upt_model.rollout_frames(x.to(device), n_steps=n_steps, temporal_scale=temporal_scale, spatial_scale=4).squeeze(0).cpu(),\n",
    "#    ),\n",
    "#    \"... c h w -> ... h w c\",\n",
    "#)\n",
    "x_pred_unet = rearrange(\n",
    "    model_output_to_video(\n",
    "        unet_model.rollout_frames(x.to(device), n_steps=n_steps, alpha_cond_aug=0.0).squeeze(0).cpu(),\n",
    "    ),\n",
    "    \"... c h w -> ... h w c\",\n",
    ")\n",
    "\n",
    "x_pred_dit = rearrange(\n",
    "    model_output_to_video(\n",
    "        dit_model.rollout_frames(x.to(device), n_steps=n_steps).squeeze(0).cpu(),\n",
    "    ),\n",
    "    \"... c h w -> ... h w c\",\n",
    ")\n",
    "\n",
    "y = rearrange(\n",
    "    model_output_to_video(\n",
    "        y.squeeze(0).cpu(),\n",
    "    ),\n",
    "    \"... c h w -> ... h w c\",\n",
    ")\n",
    "\n",
    "#save_videos_as_grid_gif([x_pred_upt], (1, 1), \"upt_x_pred.gif\")\n",
    "#save_videos_as_grid_gif([x_pred_unet], (1, 1), \"unet_x_pred.gif\")\n",
    "#save_videos_as_grid_gif([x_pred_dit], (1, 1), \"dit_x_pred.gif\")"
   ]
  },
  {
   "cell_type": "code",
   "execution_count": 210,
   "metadata": {},
   "outputs": [
    {
     "data": {
      "image/png": "[encoded data removed]",
      "text/plain": [
       "<Figure size 1000x500 with 5 Axes>"
      ]
     },
     "metadata": {},
     "output_type": "display_data"
    }
   ],
   "source": [
    "import matplotlib.pyplot as plt\n",
    "\n",
    "def plot_video_frames(video_array, frame_indices, output_size=None):\n",
    "    \"\"\"\n",
    "    Plots specified frames from a video (stored as a NumPy array) in a row.\n",
    "\n",
    "    Args:\n",
    "        video_array (numpy.ndarray): The video array of shape (num_frames, height, width, channels).\n",
    "        frame_indices (list of int): List of frame indices to plot.\n",
    "        output_size (tuple, optional): Target size (width, height) for resizing frames. Default is None.\n",
    "    \"\"\"\n",
    "    # Validate inputs\n",
    "    if video_array.ndim != 4:\n",
    "        raise ValueError(\"Video array must have 4 dimensions: (num_frames, height, width, channels).\")\n",
    "    \n",
    "    num_frames, height, width, channels = video_array.shape\n",
    "    if channels not in (1, 3):\n",
    "        raise ValueError(\"Video array must have 1 (grayscale) or 3 (RGB) channels.\")\n",
    "    \n",
    "    if any(idx >= num_frames for idx in frame_indices):\n",
    "        raise ValueError(f\"Frame indices must be less than the total number of frames ({num_frames}).\")\n",
    "\n",
    "    # Extract specified frames\n",
    "    frames = [video_array[idx] for idx in frame_indices]\n",
    "\n",
    "    # Plot the frames in a row\n",
    "    fig, axes = plt.subplots(1, len(frames), figsize=(10, 5))\n",
    "    for ax, frame, idx in zip(axes, frames, frame_indices):\n",
    "        if channels == 1:\n",
    "            ax.imshow(frame.squeeze(), cmap='gray')  # Grayscale\n",
    "        else:\n",
    "            ax.imshow(frame)  # RGB\n",
    "        ax.set_title(f\"Step {idx+1}\")\n",
    "        ax.axis(\"off\")\n",
    "\n",
    "    plt.tight_layout()\n",
    "    plt.show()\n",
    "\n",
    "\n",
    "plot_video_frames(x_pred_dit, [0, 3, 7, 15, 31])"
   ]
  },
  {
   "cell_type": "code",
   "execution_count": 227,
   "metadata": {},
   "outputs": [
    {
     "name": "stdout",
     "output_type": "stream",
     "text": [
      "[INFO] Register count_convNd() for <class 'torch.nn.modules.conv.Conv2d'>.\n",
      "[INFO] Register count_linear() for <class 'torch.nn.modules.linear.Linear'>.\n",
      "[INFO] Register zero_ops() for <class 'torch.nn.modules.container.Sequential'>.\n",
      "[INFO] Register count_normalization() for <class 'torch.nn.modules.normalization.LayerNorm'>.\n",
      "[INFO] Register zero_ops() for <class 'torch.nn.modules.dropout.Dropout'>.\n",
      "MACs = 155.965G\n",
      "Params = 3.654M\n"
     ]
    }
   ],
   "source": [
    "from thop import profile, clever_format\n",
    "import torch\n",
    "\n",
    "\n",
    "\n",
    "class ProfileWrapper(torch.nn.Module):\n",
    "    def __init__(self, model):\n",
    "        super().__init__()\n",
    "        self.model = model\n",
    "\n",
    "    def forward(self, x, steps, *args):\n",
    "        return self.model.rollout_frames(x, steps, *args)\n",
    "    \n",
    "    \n",
    "macs, params = profile(ProfileWrapper(dit_model), inputs=(x.cuda(), 32))\n",
    "macs, params = clever_format([macs, params], \"%.3f\")\n",
    "print('MACs = ' + macs)\n",
    "print('Params = ' + params)"
   ]
  },
  {
   "cell_type": "markdown",
   "metadata": {},
   "source": [
    "# Latent Space Similarity"
   ]
  },
  {
   "cell_type": "code",
   "execution_count": 69,
   "metadata": {},
   "outputs": [
    {
     "data": {
      "image/png": "[encoded data removed]",
      "text/plain": [
       "<Figure size 640x480 with 1 Axes>"
      ]
     },
     "metadata": {},
     "output_type": "display_data"
    },
    {
     "data": {
      "image/png": "[encoded data removed]",
      "text/plain": [
       "<Figure size 1200x800 with 16 Axes>"
      ]
     },
     "metadata": {},
     "output_type": "display_data"
    },
    {
     "name": "stdout",
     "output_type": "stream",
     "text": [
      "torch.Size([16, 4, 3, 32, 32])\n",
      "Saved GIF to cos_sims.gif\n"
     ]
    }
   ],
   "source": [
    "from torch.nn.functional import cosine_similarity\n",
    "\n",
    "config.dataset.num_frames = 64\n",
    "config.dataset.context_length = 64\n",
    "dataset = get_dataset(config.dataset)\n",
    "\n",
    "x = dataset[90]\n",
    "x = torch.split(x[0].unsqueeze(0), 4, dim=1)\n",
    "x = torch.cat(x, dim=0)\n",
    "\n",
    "z = model.autoencoder.encode(x.to(device))\n",
    "\n",
    "cos_sims = [cosine_similarity(z[i], z[i+1], dim=-1).mean().cpu() for i in range(x.size(0) - 1)]\n",
    "\n",
    "plt.plot(range(x.size(0) - 1), cos_sims, scaley=False)\n",
    "display_video_frames_in_grid(x[:, 1])\n",
    "\n",
    "cos_sims.append(torch.tensor(0.0))\n",
    "print(x.shape)\n",
    "x_weighted = x * torch.tensor(cos_sims).unsqueeze(-1).unsqueeze(-1).unsqueeze(-1).unsqueeze(-1)\n",
    "\n",
    "x = model_output_to_video(rearrange(x, \"b t c h w -> (b t) h w c\"))\n",
    "x_weighted = model_output_to_video(rearrange(x_weighted, \"b t c h w -> (b t) h w c\"))\n",
    "save_videos_as_grid_gif([x, x_weighted], (1, 2), \"cos_sims.gif\")"
   ]
  },
  {
   "cell_type": "code",
   "execution_count": null,
   "metadata": {},
   "outputs": [
    {
     "ename": "TypeError",
     "evalue": "unsupported operand type(s) for *: 'numpy.ndarray' and 'Tensor'",
     "output_type": "error",
     "traceback": [
      "\u001b[0;31m---------------------------------------------------------------------------\u001b[0m",
      "\u001b[0;31mTypeError\u001b[0m                                 Traceback (most recent call last)",
      "Cell \u001b[0;32mIn[62], line 2\u001b[0m\n\u001b[1;32m      1\u001b[0m cos_sims\u001b[38;5;241m.\u001b[39mappend(torch\u001b[38;5;241m.\u001b[39mtensor(\u001b[38;5;241m0.0\u001b[39m))\n\u001b[0;32m----> 2\u001b[0m x_weighted \u001b[38;5;241m=\u001b[39m \u001b[43mx\u001b[49m\u001b[43m \u001b[49m\u001b[38;5;241;43m*\u001b[39;49m\u001b[43m \u001b[49m\u001b[43mtorch\u001b[49m\u001b[38;5;241;43m.\u001b[39;49m\u001b[43mtensor\u001b[49m\u001b[43m(\u001b[49m\u001b[43mcos_sims\u001b[49m\u001b[43m)\u001b[49m\n",
      "\u001b[0;31mTypeError\u001b[0m: unsupported operand type(s) for *: 'numpy.ndarray' and 'Tensor'"
     ]
    }
   ],
   "source": []
  },
  {
   "cell_type": "markdown",
   "metadata": {},
   "source": [
    "# Super-Resolution"
   ]
  },
  {
   "cell_type": "code",
   "execution_count": 41,
   "metadata": {},
   "outputs": [],
   "source": [
    "import torch\n",
    "from torchvision import transforms\n",
    "import matplotlib.pyplot as plt\n",
    "\n",
    "def compare_model_upsampling(tensor, model_outputs, model_names, target_size):\n",
    "    \"\"\"\n",
    "    Compare bilinear upsampling visually across multiple model outputs.\n",
    "\n",
    "    Args:\n",
    "        tensor (torch.Tensor): Input image tensor in C, H, W format.\n",
    "        model_outputs (list of torch.Tensor): List of model output tensors in C, H, W format.\n",
    "        model_names (list of str): Names of the models corresponding to the outputs.\n",
    "        target_size (tuple): Target size as (height, width).\n",
    "    \"\"\"\n",
    "    # Ensure the tensor is in C, H, W format\n",
    "    if tensor.ndim != 3:\n",
    "        raise ValueError(\"Input tensor must be in C, H, W format.\")\n",
    "\n",
    "    # Ensure model_outputs and model_names lengths match\n",
    "    if len(model_outputs) != len(model_names):\n",
    "        raise ValueError(\"model_outputs and model_names must have the same length.\")\n",
    "\n",
    "    # Normalize tensors for visualization\n",
    "    tensor = tensor / tensor.max()\n",
    "    model_outputs = [model / model.max() for model in model_outputs]\n",
    "\n",
    "    # Convert to PIL images for compatibility with transforms\n",
    "    to_pil = transforms.ToPILImage()\n",
    "    pil_image = to_pil(tensor)\n",
    "    model_images = [to_pil(model) for model in model_outputs]\n",
    "\n",
    "    # Bilinear interpolation transform\n",
    "    bilinear_transform = transforms.Resize(target_size, interpolation=transforms.InterpolationMode.BILINEAR)\n",
    "\n",
    "    # Create subplots: Original + one for each model\n",
    "    fig, axes = plt.subplots(1, len(model_outputs) + 1, figsize=(8, 4))\n",
    "\n",
    "    # Show the original image with bilinear interpolation\n",
    "    original_resized = bilinear_transform(pil_image)\n",
    "    axes[-1].imshow(original_resized)\n",
    "    axes[-1].set_title(\"Bilinear Interpolation\")\n",
    "    axes[-1].axis(\"off\")\n",
    "\n",
    "    # Show the resized images for each model output\n",
    "    for ax, model_image, model_name in zip(axes[:-1], model_images, model_names):\n",
    "        resized_image = bilinear_transform(model_image)\n",
    "        ax.imshow(resized_image)\n",
    "        ax.set_title(model_name)\n",
    "        ax.axis(\"off\")\n",
    "\n",
    "    plt.tight_layout()\n",
    "    plt.show()"
   ]
  },
  {
   "cell_type": "code",
   "execution_count": 63,
   "metadata": {},
   "outputs": [
    {
     "name": "stderr",
     "output_type": "stream",
     "text": [
      "/tmp/ipykernel_963/115169400.py:16: FutureWarning: You are using `torch.load` with `weights_only=False` (the current default value), which uses the default pickle module implicitly. It is possible to construct malicious pickle data which will execute arbitrary code during unpickling (See https://github.com/pytorch/pytorch/blob/main/SECURITY.md#untrusted-models for more details). In a future release, the default value for `weights_only` will be flipped to `True`. This limits the functions that could be executed during unpickling. Arbitrary objects will no longer be allowed to be loaded via this mode unless they are explicitly allowlisted by the user via `torch.serialization.add_safe_globals`. We recommend you start setting `weights_only=True` for any use case where you don't have full control of the loaded file. Please open an issue on GitHub for any issues related to this experimental feature.\n",
      "  srno_model.load_state_dict(torch.load(\"/home/david/projects/ViTSSM/checkpoints/ContVidPred/SRNO/vmdsprites-0-SRNO-EDSR.pth\")[\"model\"])\n",
      "/tmp/ipykernel_963/115169400.py:23: FutureWarning: You are using `torch.load` with `weights_only=False` (the current default value), which uses the default pickle module implicitly. It is possible to construct malicious pickle data which will execute arbitrary code during unpickling (See https://github.com/pytorch/pytorch/blob/main/SECURITY.md#untrusted-models for more details). In a future release, the default value for `weights_only` will be flipped to `True`. This limits the functions that could be executed during unpickling. Arbitrary objects will no longer be allowed to be loaded via this mode unless they are explicitly allowlisted by the user via `torch.serialization.add_safe_globals`. We recommend you start setting `weights_only=True` for any use case where you don't have full control of the loaded file. Please open an issue on GitHub for any issues related to this experimental feature.\n",
      "  upt_model.load_state_dict(torch.load(\"/home/david/projects/ViTSSM/checkpoints/ContVidPred/UPT/vmdsprites-0-UPT_VAE_T-cont-scale.pth\")[\"model\"])\n"
     ]
    },
    {
     "name": "stdout",
     "output_type": "stream",
     "text": [
      "tensor(-1.) tensor(1.)\n"
     ]
    },
    {
     "data": {
      "image/png": "[encoded data removed]",
      "text/plain": [
       "<Figure size 800x400 with 3 Axes>"
      ]
     },
     "metadata": {},
     "output_type": "display_data"
    }
   ],
   "source": [
    "from vitssm.data.datasets import VideoDataset, VideoFrameDataset\n",
    "from vitssm.utils.visual import unnormalize, model_output_to_video\n",
    "from torchvision.transforms.functional import resize\n",
    "from omegaconf import OmegaConf\n",
    "from vitssm.models import build_model\n",
    "from einops import rearrange\n",
    "from vitssm.data.wrappers import SRImplicitDownsampledFast\n",
    "\n",
    "dataset = VideoDataset(\"data_store/VMDsprites_128/folds/train_0.csv\", 32, clip_length=4, frame_interval=4, image_size=(32, 32))\n",
    "\n",
    "srno_dataset = VideoFrameDataset(\"data_store/VMDsprites_128/folds/train_0.csv\", 32, image_size=(32, 32), transform_name=None)\n",
    "srno_dataset = SRImplicitDownsampledFast(srno_dataset, scale_min=4, scale_max=4, train=False)\n",
    "\n",
    "srno_config = OmegaConf.load(\"configs/SRNO/FINAL_srno_edsr_config.yml\")\n",
    "srno_model = build_model(srno_config.model)\n",
    "srno_model.load_state_dict(torch.load(\"/home/david/projects/ViTSSM/checkpoints/ContVidPred/SRNO/vmdsprites-0-SRNO-EDSR.pth\")[\"model\"])\n",
    "srno_model.eval()\n",
    "srno_model.requires_grad_(False)\n",
    "srno_model.to(\"cuda\")\n",
    "\n",
    "upt_config = OmegaConf.load(\"configs/UPT/FINAL_upt_vae_t_cont_config.yml\")\n",
    "upt_model = build_model(upt_config.model)\n",
    "upt_model.load_state_dict(torch.load(\"/home/david/projects/ViTSSM/checkpoints/ContVidPred/UPT/vmdsprites-0-UPT_VAE_T-cont-scale.pth\")[\"model\"])\n",
    "upt_model.eval()\n",
    "upt_model.decoder.unbatch_mode = \"video\"\n",
    "upt_model.requires_grad_(False)\n",
    "\n",
    "x = dataset[1500][0:4]\n",
    "\n",
    "t, c, h, w = x.shape\n",
    "rescale_factor = 3\n",
    "\n",
    "output_pos = rearrange(\n",
    "    torch.stack(torch.meshgrid([torch.arange(t), torch.arange(h * rescale_factor), torch.arange(w * rescale_factor)], indexing=\"ij\")),\n",
    "    \"ndim time height width -> (time height width) ndim\",\n",
    ").float()\n",
    "\n",
    "dims = torch.tensor([t, h * rescale_factor, w * rescale_factor])\n",
    "output_pos = output_pos / (dims - 1) * 1000\n",
    "\n",
    "x_pred = upt_model(x.unsqueeze(0), output_pos.unsqueeze(0))\n",
    "\n",
    "x_pred = unnormalize(x_pred[0][0]) * 255\n",
    "x = unnormalize(x[0]) * 255\n",
    "\n",
    "inp, coord, cell, gt = srno_dataset[0].values()\n",
    "\n",
    "pred_srno = srno_model(inp.unsqueeze(0).cuda(), coord.unsqueeze(0).cuda(), cell.unsqueeze(0).cuda()).cpu().clamp(-1, 1)\n",
    "print(pred_srno.min(), pred_srno.max())\n",
    "pred_srno = unnormalize(pred_srno[0]) * 255\n",
    "\n",
    "compare_model_upsampling(x, [x_pred, pred_srno], [\"Vid-UPT\", \"SRNO\"], target_size=(32 * rescale_factor, 32 * rescale_factor))"
   ]
  },
  {
   "cell_type": "markdown",
   "metadata": {},
   "source": [
    "# Plotting"
   ]
  },
  {
   "cell_type": "code",
   "execution_count": 71,
   "metadata": {},
   "outputs": [],
   "source": [
    "import matplotlib.pyplot as plt\n",
    "import numpy as np\n",
    "\n",
    "def plot_psnr_over_scales(scales, psnr_values, model_names, title=\"PSNR over Super-Resolution Scales\"):\n",
    "    \"\"\"\n",
    "    Plots PSNR over super-resolution scales for multiple models.\n",
    "    \n",
    "    Args:\n",
    "        scales (list): Super-resolution scales (e.g., [2, 4, 6, 8]).\n",
    "        psnr_values (list of lists): PSNR values for each model at the given scales.\n",
    "                                     Each sublist corresponds to one model.\n",
    "        model_names (list): Names of the models (e.g., [\"Model 1\", \"Model 2\"]).\n",
    "        title (str): Title of the plot.\n",
    "    \n",
    "    Returns:\n",
    "        matplotlib.figure.Figure: The generated plot figure.\n",
    "    \"\"\"\n",
    "    if len(psnr_values) != len(model_names):\n",
    "        raise ValueError(\"Number of PSNR value sets must match the number of model names.\")\n",
    "    \n",
    "    plt.figure(figsize=(8, 6))\n",
    "    \n",
    "    # Plot each model's PSNR values\n",
    "    for psnr, model_name in zip(psnr_values, model_names):\n",
    "        plt.plot(scales, psnr, label=model_name, marker='s')\n",
    "    \n",
    "    # Add labels, grid, and legend\n",
    "    plt.title(title, fontsize=14)\n",
    "    plt.xlabel(\"Super-Resolution Scale\", fontsize=12)\n",
    "    plt.ylabel(\"PSNR (dB)\", fontsize=12)\n",
    "    plt.xticks(scales)\n",
    "    plt.grid(alpha=0.5)\n",
    "    plt.legend()\n",
    "    \n",
    "    # Return the plot as a figure\n",
    "    return plt.gcf()\n",
    "\n",
    "\n",
    "def plot_psnr_over_rollout(steps, psnr_values, model_names, title=\"PSNR over Rollout Steps\"):\n",
    "    \"\"\"\n",
    "    Plots PSNR over rollout steps for multiple models.\n",
    "\n",
    "    Args:\n",
    "        steps (list): Rollout steps (e.g., [1, 2, 3, ...]).\n",
    "        psnr_values (list of lists): PSNR values for each model at the given rollout steps.\n",
    "                                     Each sublist corresponds to one model.\n",
    "        model_names (list): Names of the models (e.g., [\"Model 1\", \"Model 2\"]).\n",
    "        title (str): Title of the plot.\n",
    "\n",
    "    Returns:\n",
    "        matplotlib.figure.Figure: The generated plot figure.\n",
    "    \"\"\"\n",
    "    if len(psnr_values) != len(model_names):\n",
    "        raise ValueError(\"Number of PSNR value sets must match the number of model names.\")\n",
    "    \n",
    "    steps = np.array(steps)\n",
    "    powers_of_2 = [2**i for i in range(int(np.log2(min(steps))), int(np.log2(max(steps))) + 1)]\n",
    "    marker_indices = [np.where(steps == p)[0][0] for p in powers_of_2]\n",
    "    \n",
    "    plt.figure(figsize=(8, 6))\n",
    "    \n",
    "    # Plot each model's PSNR values\n",
    "    for psnr, model_name in zip(psnr_values, model_names):\n",
    "        plt.plot(steps, psnr, label=model_name, marker=\"s\", markevery=marker_indices, linewidth=2)\n",
    "    \n",
    "    # Add labels, grid, and legend\n",
    "    plt.title(title, fontsize=14)\n",
    "    plt.xlabel(\"Rollout Step\", fontsize=12)\n",
    "    plt.ylabel(\"PSNR (dB)\", fontsize=12)\n",
    "    plt.xticks(powers_of_2)\n",
    "    plt.grid(alpha=0.5)\n",
    "    plt.legend()\n",
    "    \n",
    "    # Return the plot as a figure\n",
    "    return plt.gcf()\n",
    "\n",
    "\n",
    "def plot_psnr_over_rollout_for_scales(steps, psnr_values, scales, model_name=\"Model\", title=\"PSNR over Rollout Steps\"):\n",
    "    \"\"\"\n",
    "    Plots PSNR over rollout steps for different super-resolution scales of a single model.\n",
    "\n",
    "    Args:\n",
    "        steps (list): Rollout steps (e.g., [1, 2, 3, ...]).\n",
    "        psnr_values (list of lists): PSNR values at each rollout step for different scales.\n",
    "                                     Each sublist corresponds to a single scale.\n",
    "        scales (list): Super-resolution scales (e.g., [2, 4, 6, 8]).\n",
    "        model_name (str): Name of the model being evaluated.\n",
    "        title (str): Title of the plot.\n",
    "\n",
    "    Returns:\n",
    "        matplotlib.figure.Figure: The generated plot figure.\n",
    "    \"\"\"\n",
    "    if len(psnr_values) != len(scales):\n",
    "        raise ValueError(\"Number of PSNR value sets must match the number of scales.\")\n",
    "    \n",
    "    steps = np.array(steps)\n",
    "    powers_of_2 = [2**i for i in range(int(np.log2(min(steps))), int(np.log2(max(steps))) + 1)]\n",
    "    marker_indices = [np.where(steps == p)[0][0] for p in powers_of_2]\n",
    "    \n",
    "    plt.figure(figsize=(8, 6))\n",
    "    \n",
    "    # Plot PSNR values for each scale\n",
    "    for psnr, scale in zip(psnr_values, scales):\n",
    "        plt.plot(steps, psnr, label=f\"Scale {scale}x\", marker='o', markevery=marker_indices, linewidth=2)\n",
    "    \n",
    "    # Add labels, grid, and legend\n",
    "    plt.title(f\"{title} ({model_name})\", fontsize=14)\n",
    "    plt.xlabel(\"Rollout Step\", fontsize=12)\n",
    "    plt.ylabel(\"PSNR (dB)\", fontsize=12)\n",
    "    plt.xticks(powers_of_2)\n",
    "    plt.grid(alpha=0.5)\n",
    "    plt.legend()\n",
    "    \n",
    "    # Return the plot as a figure\n",
    "    return plt.gcf()"
   ]
  },
  {
   "cell_type": "code",
   "execution_count": 73,
   "metadata": {},
   "outputs": [],
   "source": [
    "# Example data\n",
    "scales = [1, 2, 3, 4]\n",
    "upt_psnr = [30.04, 36.98, 34.61, 29.33]\n",
    "srno_psnr = [78.63, 55.2, 49.78, 44.67]\n",
    "bilinear_psnr = [60.45, 28.87, 27.24, 24.78]\n",
    "model_names = [\"Vid-UPT\", \"SRNO\", \"Bilinear Interpolation\"]\n",
    "\n",
    "# Generate the plot\n",
    "fig = plot_psnr_over_scales(scales, [upt_psnr, srno_psnr, bilinear_psnr], model_names)\n",
    "\n",
    "# Save the plot\n",
    "fig.savefig(\"psnr_over_scales.png\", dpi=300)\n",
    "plt.close(fig)  # Close the figure to avoid display in some environments"
   ]
  },
  {
   "cell_type": "code",
   "execution_count": 72,
   "metadata": {},
   "outputs": [],
   "source": [
    "# Example data\n",
    "import pandas as pd\n",
    "\n",
    "df_upt = pd.read_csv(\"upt_psnr.csv\")\n",
    "df_unet = pd.read_csv(\"unet_psnr.csv\")\n",
    "df_dit = pd.read_csv(\"dit_psnr.csv\")\n",
    "\n",
    "steps = list(range(1, 33))\n",
    "upt_psnr = list(df_upt[df_upt.lineKey == \"scale: 1\"].lineVal.round(2))\n",
    "unet_psnr = list(df_unet.PSNR.round(2))\n",
    "dit_psnr = list(df_dit.PSNR.round(2))\n",
    "model_names = [\"Vid-UPT\", \"UNet\", \"DiT\"]\n",
    "\n",
    "# Generate the plot\n",
    "fig = plot_psnr_over_rollout(steps, [upt_psnr, unet_psnr, dit_psnr], model_names)\n",
    "\n",
    "# Save the plot\n",
    "fig.savefig(\"psnr_over_rollout.png\", dpi=300)\n",
    "plt.close(fig)  # Close the figure to avoid display in some environments"
   ]
  },
  {
   "cell_type": "code",
   "execution_count": 37,
   "metadata": {},
   "outputs": [],
   "source": [
    "# Example data\n",
    "import pandas as pd\n",
    "\n",
    "df_upt = pd.read_csv(\"upt_psnr.csv\")\n",
    "\n",
    "steps = list(range(1, 33))\n",
    "scales = [1, 2, 3, 4]\n",
    "upt_1 = list(df_upt[df_upt.lineKey == \"scale: 1\"].lineVal.round(2))\n",
    "upt_2 = list(df_upt[df_upt.lineKey == \"scale: 2\"].lineVal.round(2))\n",
    "upt_3 = list(df_upt[df_upt.lineKey == \"scale: 3\"].lineVal.round(2))\n",
    "upt_4 = list(df_upt[df_upt.lineKey == \"scale: 4\"].lineVal.round(2))\n",
    "model_name = \"Vid-UPT\"\n",
    "\n",
    "# Generate the plot\n",
    "fig = plot_psnr_over_rollout_for_scales(steps, [upt_1, upt_2, upt_3, upt_4], scales, model_name)\n",
    "\n",
    "# Save the plot\n",
    "fig.savefig(\"psnr_over_rollout_scales.png\", dpi=300)\n",
    "plt.close(fig)  # Close the figure to avoid display in some environments"
   ]
  }
 ],
 "metadata": {
  "kernelspec": {
   "display_name": "vitssm",
   "language": "python",
   "name": "python3"
  },
  "language_info": {
   "codemirror_mode": {
    "name": "ipython",
    "version": 3
   },
   "file_extension": ".py",
   "mimetype": "text/x-python",
   "name": "python",
   "nbconvert_exporter": "python",
   "pygments_lexer": "ipython3",
   "version": "3.12.6"
  }
 },
 "nbformat": 4,
 "nbformat_minor": 2
}
