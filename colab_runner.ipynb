{
 "cells": [
  {
   "cell_type": "markdown",
   "metadata": {
    "colab_type": "text",
    "id": "view-in-github"
   },
   "source": [
    "<a href=\"https://colab.research.google.com/github/davidkuernsteiner/ViTSSM/blob/master/colab_runner.ipynb\" target=\"_parent\"><img src=\"https://colab.research.google.com/assets/colab-badge.svg\" alt=\"Open In Colab\"/></a>"
   ]
  },
  {
   "cell_type": "markdown",
   "metadata": {
    "id": "omZRZK85Wi57"
   },
   "source": [
    "# Setup"
   ]
  },
  {
   "cell_type": "code",
   "execution_count": null,
   "metadata": {
    "colab": {
     "base_uri": "https://localhost:8080/",
     "height": 1000
    },
    "id": "n161NaZTcIEm",
    "outputId": "1e79ca23-7e1a-460c-f1ba-2da92c37399b",
    "vscode": {
     "languageId": "plaintext"
    }
   },
   "outputs": [
    {
     "name": "stdout",
     "output_type": "stream",
     "text": [
      "Mounted at /content/drive\n",
      "Cloning into 'ViTSSM'...\n",
      "remote: Enumerating objects: 1311, done.\u001b[K\n",
      "remote: Counting objects: 100% (131/131), done.\u001b[K\n",
      "remote: Compressing objects: 100% (76/76), done.\u001b[K\n",
      "remote: Total 1311 (delta 92), reused 81 (delta 55), pack-reused 1180 (from 1)\u001b[K\n",
      "Receiving objects: 100% (1311/1311), 648.41 KiB | 721.00 KiB/s, done.\n",
      "Resolving deltas: 100% (790/790), done.\n",
      "Requirement already satisfied: torch in /usr/local/lib/python3.10/dist-packages (from -r colab_requirements.txt (line 1)) (2.5.1+cu121)\n",
      "Requirement already satisfied: torchvision in /usr/local/lib/python3.10/dist-packages (from -r colab_requirements.txt (line 2)) (0.20.1+cu121)\n",
      "Collecting torchmetrics (from -r colab_requirements.txt (line 3))\n",
      "  Downloading torchmetrics-1.6.0-py3-none-any.whl.metadata (20 kB)\n",
      "Collecting omegaconf (from -r colab_requirements.txt (line 5))\n",
      "  Downloading omegaconf-2.3.0-py3-none-any.whl.metadata (3.9 kB)\n",
      "Requirement already satisfied: pandas in /usr/local/lib/python3.10/dist-packages (from -r colab_requirements.txt (line 6)) (2.2.2)\n",
      "Requirement already satisfied: wandb in /usr/local/lib/python3.10/dist-packages (from -r colab_requirements.txt (line 7)) (0.18.7)\n",
      "Requirement already satisfied: einops in /usr/local/lib/python3.10/dist-packages (from -r colab_requirements.txt (line 9)) (0.8.0)\n",
      "Collecting av (from -r colab_requirements.txt (line 10))\n",
      "  Downloading av-13.1.0-cp310-cp310-manylinux_2_17_x86_64.manylinux2014_x86_64.whl.metadata (4.4 kB)\n",
      "Requirement already satisfied: opencv-python in /usr/local/lib/python3.10/dist-packages (from -r colab_requirements.txt (line 11)) (4.10.0.84)\n",
      "Collecting python-dotenv (from -r colab_requirements.txt (line 12))\n",
      "  Downloading python_dotenv-1.0.1-py3-none-any.whl.metadata (23 kB)\n",
      "Requirement already satisfied: pydantic in /usr/local/lib/python3.10/dist-packages (from -r colab_requirements.txt (line 13)) (2.9.2)\n",
      "Requirement already satisfied: diffusers[torch] in /usr/local/lib/python3.10/dist-packages (from -r colab_requirements.txt (line 4)) (0.31.0)\n",
      "Requirement already satisfied: filelock in /usr/local/lib/python3.10/dist-packages (from torch->-r colab_requirements.txt (line 1)) (3.16.1)\n",
      "Requirement already satisfied: typing-extensions>=4.8.0 in /usr/local/lib/python3.10/dist-packages (from torch->-r colab_requirements.txt (line 1)) (4.12.2)\n",
      "Requirement already satisfied: networkx in /usr/local/lib/python3.10/dist-packages (from torch->-r colab_requirements.txt (line 1)) (3.4.2)\n",
      "Requirement already satisfied: jinja2 in /usr/local/lib/python3.10/dist-packages (from torch->-r colab_requirements.txt (line 1)) (3.1.4)\n",
      "Requirement already satisfied: fsspec in /usr/local/lib/python3.10/dist-packages (from torch->-r colab_requirements.txt (line 1)) (2024.10.0)\n",
      "Requirement already satisfied: sympy==1.13.1 in /usr/local/lib/python3.10/dist-packages (from torch->-r colab_requirements.txt (line 1)) (1.13.1)\n",
      "Requirement already satisfied: mpmath<1.4,>=1.1.0 in /usr/local/lib/python3.10/dist-packages (from sympy==1.13.1->torch->-r colab_requirements.txt (line 1)) (1.3.0)\n",
      "Requirement already satisfied: numpy in /usr/local/lib/python3.10/dist-packages (from torchvision->-r colab_requirements.txt (line 2)) (1.26.4)\n",
      "Requirement already satisfied: pillow!=8.3.*,>=5.3.0 in /usr/local/lib/python3.10/dist-packages (from torchvision->-r colab_requirements.txt (line 2)) (11.0.0)\n",
      "Requirement already satisfied: packaging>17.1 in /usr/local/lib/python3.10/dist-packages (from torchmetrics->-r colab_requirements.txt (line 3)) (24.2)\n",
      "Collecting lightning-utilities>=0.8.0 (from torchmetrics->-r colab_requirements.txt (line 3))\n",
      "  Downloading lightning_utilities-0.11.9-py3-none-any.whl.metadata (5.2 kB)\n",
      "Requirement already satisfied: importlib-metadata in /usr/local/lib/python3.10/dist-packages (from diffusers[torch]->-r colab_requirements.txt (line 4)) (8.5.0)\n",
      "Requirement already satisfied: huggingface-hub>=0.23.2 in /usr/local/lib/python3.10/dist-packages (from diffusers[torch]->-r colab_requirements.txt (line 4)) (0.26.2)\n",
      "Requirement already satisfied: regex!=2019.12.17 in /usr/local/lib/python3.10/dist-packages (from diffusers[torch]->-r colab_requirements.txt (line 4)) (2024.9.11)\n",
      "Requirement already satisfied: requests in /usr/local/lib/python3.10/dist-packages (from diffusers[torch]->-r colab_requirements.txt (line 4)) (2.32.3)\n",
      "Requirement already satisfied: safetensors>=0.3.1 in /usr/local/lib/python3.10/dist-packages (from diffusers[torch]->-r colab_requirements.txt (line 4)) (0.4.5)\n",
      "INFO: pip is looking at multiple versions of diffusers[torch] to determine which version is compatible with other requirements. This could take a while.\n",
      "Collecting diffusers[torch] (from -r colab_requirements.txt (line 4))\n",
      "  Downloading diffusers-0.30.3-py3-none-any.whl.metadata (18 kB)\n",
      "Requirement already satisfied: accelerate>=0.31.0 in /usr/local/lib/python3.10/dist-packages (from diffusers[torch]->-r colab_requirements.txt (line 4)) (1.1.1)\n",
      "Collecting antlr4-python3-runtime==4.9.* (from omegaconf->-r colab_requirements.txt (line 5))\n",
      "  Downloading antlr4-python3-runtime-4.9.3.tar.gz (117 kB)\n",
      "\u001b[2K     \u001b[90m━━━━━━━━━━━━━━━━━━━━━━━━━━━━━━━━━━━━━━━━\u001b[0m \u001b[32m117.0/117.0 kB\u001b[0m \u001b[31m12.3 MB/s\u001b[0m eta \u001b[36m0:00:00\u001b[0m\n",
      "\u001b[?25h  Preparing metadata (setup.py) ... \u001b[?25l\u001b[?25hdone\n",
      "Requirement already satisfied: PyYAML>=5.1.0 in /usr/local/lib/python3.10/dist-packages (from omegaconf->-r colab_requirements.txt (line 5)) (6.0.2)\n",
      "Requirement already satisfied: python-dateutil>=2.8.2 in /usr/local/lib/python3.10/dist-packages (from pandas->-r colab_requirements.txt (line 6)) (2.8.2)\n",
      "Requirement already satisfied: pytz>=2020.1 in /usr/local/lib/python3.10/dist-packages (from pandas->-r colab_requirements.txt (line 6)) (2024.2)\n",
      "Requirement already satisfied: tzdata>=2022.7 in /usr/local/lib/python3.10/dist-packages (from pandas->-r colab_requirements.txt (line 6)) (2024.2)\n",
      "Requirement already satisfied: click!=8.0.0,>=7.1 in /usr/local/lib/python3.10/dist-packages (from wandb->-r colab_requirements.txt (line 7)) (8.1.7)\n",
      "Requirement already satisfied: docker-pycreds>=0.4.0 in /usr/local/lib/python3.10/dist-packages (from wandb->-r colab_requirements.txt (line 7)) (0.4.0)\n",
      "Requirement already satisfied: gitpython!=3.1.29,>=1.0.0 in /usr/local/lib/python3.10/dist-packages (from wandb->-r colab_requirements.txt (line 7)) (3.1.43)\n",
      "Requirement already satisfied: platformdirs in /usr/local/lib/python3.10/dist-packages (from wandb->-r colab_requirements.txt (line 7)) (4.3.6)\n",
      "Requirement already satisfied: protobuf!=4.21.0,!=5.28.0,<6,>=3.19.0 in /usr/local/lib/python3.10/dist-packages (from wandb->-r colab_requirements.txt (line 7)) (4.25.5)\n",
      "Requirement already satisfied: psutil>=5.0.0 in /usr/local/lib/python3.10/dist-packages (from wandb->-r colab_requirements.txt (line 7)) (5.9.5)\n",
      "Requirement already satisfied: sentry-sdk>=2.0.0 in /usr/local/lib/python3.10/dist-packages (from wandb->-r colab_requirements.txt (line 7)) (2.18.0)\n",
      "Requirement already satisfied: setproctitle in /usr/local/lib/python3.10/dist-packages (from wandb->-r colab_requirements.txt (line 7)) (1.3.3)\n",
      "Requirement already satisfied: setuptools in /usr/local/lib/python3.10/dist-packages (from wandb->-r colab_requirements.txt (line 7)) (75.1.0)\n",
      "Requirement already satisfied: bokeh in /usr/local/lib/python3.10/dist-packages (from wandb[media]->-r colab_requirements.txt (line 8)) (3.6.1)\n",
      "Requirement already satisfied: imageio in /usr/local/lib/python3.10/dist-packages (from wandb[media]->-r colab_requirements.txt (line 8)) (2.36.0)\n",
      "Requirement already satisfied: moviepy in /usr/local/lib/python3.10/dist-packages (from wandb[media]->-r colab_requirements.txt (line 8)) (1.0.3)\n",
      "Requirement already satisfied: plotly>=5.18.0 in /usr/local/lib/python3.10/dist-packages (from wandb[media]->-r colab_requirements.txt (line 8)) (5.24.1)\n",
      "Collecting rdkit (from wandb[media]->-r colab_requirements.txt (line 8))\n",
      "  Downloading rdkit-2024.3.6-cp310-cp310-manylinux_2_28_x86_64.whl.metadata (4.0 kB)\n",
      "Requirement already satisfied: soundfile in /usr/local/lib/python3.10/dist-packages (from wandb[media]->-r colab_requirements.txt (line 8)) (0.12.1)\n",
      "Requirement already satisfied: annotated-types>=0.6.0 in /usr/local/lib/python3.10/dist-packages (from pydantic->-r colab_requirements.txt (line 13)) (0.7.0)\n",
      "Requirement already satisfied: pydantic-core==2.23.4 in /usr/local/lib/python3.10/dist-packages (from pydantic->-r colab_requirements.txt (line 13)) (2.23.4)\n",
      "Requirement already satisfied: six>=1.4.0 in /usr/local/lib/python3.10/dist-packages (from docker-pycreds>=0.4.0->wandb->-r colab_requirements.txt (line 7)) (1.16.0)\n",
      "Requirement already satisfied: gitdb<5,>=4.0.1 in /usr/local/lib/python3.10/dist-packages (from gitpython!=3.1.29,>=1.0.0->wandb->-r colab_requirements.txt (line 7)) (4.0.11)\n",
      "Requirement already satisfied: tqdm>=4.42.1 in /usr/local/lib/python3.10/dist-packages (from huggingface-hub>=0.23.2->diffusers[torch]->-r colab_requirements.txt (line 4)) (4.66.6)\n",
      "Requirement already satisfied: tenacity>=6.2.0 in /usr/local/lib/python3.10/dist-packages (from plotly>=5.18.0->wandb[media]->-r colab_requirements.txt (line 8)) (9.0.0)\n",
      "Requirement already satisfied: charset-normalizer<4,>=2 in /usr/local/lib/python3.10/dist-packages (from requests->diffusers[torch]->-r colab_requirements.txt (line 4)) (3.4.0)\n",
      "Requirement already satisfied: idna<4,>=2.5 in /usr/local/lib/python3.10/dist-packages (from requests->diffusers[torch]->-r colab_requirements.txt (line 4)) (3.10)\n",
      "Requirement already satisfied: urllib3<3,>=1.21.1 in /usr/local/lib/python3.10/dist-packages (from requests->diffusers[torch]->-r colab_requirements.txt (line 4)) (2.2.3)\n",
      "Requirement already satisfied: certifi>=2017.4.17 in /usr/local/lib/python3.10/dist-packages (from requests->diffusers[torch]->-r colab_requirements.txt (line 4)) (2024.8.30)\n",
      "Requirement already satisfied: contourpy>=1.2 in /usr/local/lib/python3.10/dist-packages (from bokeh->wandb[media]->-r colab_requirements.txt (line 8)) (1.3.1)\n",
      "Requirement already satisfied: tornado>=6.2 in /usr/local/lib/python3.10/dist-packages (from bokeh->wandb[media]->-r colab_requirements.txt (line 8)) (6.3.3)\n",
      "Requirement already satisfied: xyzservices>=2021.09.1 in /usr/local/lib/python3.10/dist-packages (from bokeh->wandb[media]->-r colab_requirements.txt (line 8)) (2024.9.0)\n",
      "Requirement already satisfied: MarkupSafe>=2.0 in /usr/local/lib/python3.10/dist-packages (from jinja2->torch->-r colab_requirements.txt (line 1)) (3.0.2)\n",
      "Requirement already satisfied: zipp>=3.20 in /usr/local/lib/python3.10/dist-packages (from importlib-metadata->diffusers[torch]->-r colab_requirements.txt (line 4)) (3.21.0)\n",
      "Requirement already satisfied: decorator<5.0,>=4.0.2 in /usr/local/lib/python3.10/dist-packages (from moviepy->wandb[media]->-r colab_requirements.txt (line 8)) (4.4.2)\n",
      "Requirement already satisfied: proglog<=1.0.0 in /usr/local/lib/python3.10/dist-packages (from moviepy->wandb[media]->-r colab_requirements.txt (line 8)) (0.1.10)\n",
      "Requirement already satisfied: imageio-ffmpeg>=0.2.0 in /usr/local/lib/python3.10/dist-packages (from moviepy->wandb[media]->-r colab_requirements.txt (line 8)) (0.5.1)\n",
      "Requirement already satisfied: cffi>=1.0 in /usr/local/lib/python3.10/dist-packages (from soundfile->wandb[media]->-r colab_requirements.txt (line 8)) (1.17.1)\n",
      "Requirement already satisfied: pycparser in /usr/local/lib/python3.10/dist-packages (from cffi>=1.0->soundfile->wandb[media]->-r colab_requirements.txt (line 8)) (2.22)\n",
      "Requirement already satisfied: smmap<6,>=3.0.1 in /usr/local/lib/python3.10/dist-packages (from gitdb<5,>=4.0.1->gitpython!=3.1.29,>=1.0.0->wandb->-r colab_requirements.txt (line 7)) (5.0.1)\n",
      "Downloading torchmetrics-1.6.0-py3-none-any.whl (926 kB)\n",
      "\u001b[2K   \u001b[90m━━━━━━━━━━━━━━━━━━━━━━━━━━━━━━━━━━━━━━━━\u001b[0m \u001b[32m926.4/926.4 kB\u001b[0m \u001b[31m54.2 MB/s\u001b[0m eta \u001b[36m0:00:00\u001b[0m\n",
      "\u001b[?25hDownloading omegaconf-2.3.0-py3-none-any.whl (79 kB)\n",
      "\u001b[2K   \u001b[90m━━━━━━━━━━━━━━━━━━━━━━━━━━━━━━━━━━━━━━━━\u001b[0m \u001b[32m79.5/79.5 kB\u001b[0m \u001b[31m8.2 MB/s\u001b[0m eta \u001b[36m0:00:00\u001b[0m\n",
      "\u001b[?25hDownloading av-13.1.0-cp310-cp310-manylinux_2_17_x86_64.manylinux2014_x86_64.whl (33.1 MB)\n",
      "\u001b[2K   \u001b[90m━━━━━━━━━━━━━━━━━━━━━━━━━━━━━━━━━━━━━━━━\u001b[0m \u001b[32m33.1/33.1 MB\u001b[0m \u001b[31m69.2 MB/s\u001b[0m eta \u001b[36m0:00:00\u001b[0m\n",
      "\u001b[?25hDownloading python_dotenv-1.0.1-py3-none-any.whl (19 kB)\n",
      "Downloading lightning_utilities-0.11.9-py3-none-any.whl (28 kB)\n",
      "Downloading diffusers-0.30.3-py3-none-any.whl (2.7 MB)\n",
      "\u001b[2K   \u001b[90m━━━━━━━━━━━━━━━━━━━━━━━━━━━━━━━━━━━━━━━━\u001b[0m \u001b[32m2.7/2.7 MB\u001b[0m \u001b[31m95.6 MB/s\u001b[0m eta \u001b[36m0:00:00\u001b[0m\n",
      "\u001b[?25hDownloading rdkit-2024.3.6-cp310-cp310-manylinux_2_28_x86_64.whl (32.8 MB)\n",
      "\u001b[2K   \u001b[90m━━━━━━━━━━━━━━━━━━━━━━━━━━━━━━━━━━━━━━━━\u001b[0m \u001b[32m32.8/32.8 MB\u001b[0m \u001b[31m48.8 MB/s\u001b[0m eta \u001b[36m0:00:00\u001b[0m\n",
      "\u001b[?25hBuilding wheels for collected packages: antlr4-python3-runtime\n",
      "  Building wheel for antlr4-python3-runtime (setup.py) ... \u001b[?25l\u001b[?25hdone\n",
      "  Created wheel for antlr4-python3-runtime: filename=antlr4_python3_runtime-4.9.3-py3-none-any.whl size=144555 sha256=88fd3769dbf35bfd464d88cdd451993b31fa94f34e7461d4f43309ab65bd39c9\n",
      "  Stored in directory: /root/.cache/pip/wheels/12/93/dd/1f6a127edc45659556564c5730f6d4e300888f4bca2d4c5a88\n",
      "Successfully built antlr4-python3-runtime\n",
      "Installing collected packages: antlr4-python3-runtime, rdkit, python-dotenv, omegaconf, lightning-utilities, av, torchmetrics, diffusers\n",
      "  Attempting uninstall: diffusers\n",
      "    Found existing installation: diffusers 0.31.0\n",
      "    Uninstalling diffusers-0.31.0:\n",
      "      Successfully uninstalled diffusers-0.31.0\n",
      "Successfully installed antlr4-python3-runtime-4.9.3 av-13.1.0 diffusers-0.30.3 lightning-utilities-0.11.9 omegaconf-2.3.0 python-dotenv-1.0.1 rdkit-2024.3.6 torchmetrics-1.6.0\n"
     ]
    },
    {
     "data": {
      "application/vnd.colab-display-data+json": {
       "id": "c6c6923d689e4c24806975424d4a3744",
       "pip_warning": {
        "packages": [
         "pydevd_plugins"
        ]
       }
      }
     },
     "metadata": {},
     "output_type": "display_data"
    },
    {
     "name": "stdout",
     "output_type": "stream",
     "text": [
      "Obtaining file:///content/ViTSSM\n",
      "  Installing build dependencies ... \u001b[?25l\u001b[?25hdone\n",
      "  Checking if build backend supports build_editable ... \u001b[?25l\u001b[?25hdone\n",
      "  Getting requirements to build editable ... \u001b[?25l\u001b[?25hdone\n",
      "  Preparing editable metadata (pyproject.toml) ... \u001b[?25l\u001b[?25hdone\n",
      "Building wheels for collected packages: ViTSSM\n",
      "  Building editable for ViTSSM (pyproject.toml) ... \u001b[?25l\u001b[?25hdone\n",
      "  Created wheel for ViTSSM: filename=ViTSSM-0.1.0-0.editable-py3-none-any.whl size=2670 sha256=234b9dbf72104b49ccff3c7848840a140c59d8b7e9df8545e60533da723e00c7\n",
      "  Stored in directory: /tmp/pip-ephem-wheel-cache-xyj5aulx/wheels/e4/2a/f7/656ee4a34cbe7e0f70b7ee6ed3cf739166c8b62d23b2c0782e\n",
      "Successfully built ViTSSM\n",
      "Installing collected packages: ViTSSM\n",
      "Successfully installed ViTSSM-0.1.0\n",
      "Found existing installation: opencv-python 4.10.0.84\n",
      "Uninstalling opencv-python-4.10.0.84:\n",
      "  Successfully uninstalled opencv-python-4.10.0.84\n",
      "Collecting opencv-python\n",
      "  Downloading opencv_python-4.10.0.84-cp37-abi3-manylinux_2_17_x86_64.manylinux2014_x86_64.whl.metadata (20 kB)\n",
      "Requirement already satisfied: numpy>=1.21.2 in /usr/local/lib/python3.10/dist-packages (from opencv-python) (1.26.4)\n",
      "Downloading opencv_python-4.10.0.84-cp37-abi3-manylinux_2_17_x86_64.manylinux2014_x86_64.whl (62.5 MB)\n",
      "\u001b[2K   \u001b[90m━━━━━━━━━━━━━━━━━━━━━━━━━━━━━━━━━━━━━━━━\u001b[0m \u001b[32m62.5/62.5 MB\u001b[0m \u001b[31m29.9 MB/s\u001b[0m eta \u001b[36m0:00:00\u001b[0m\n",
      "\u001b[?25hInstalling collected packages: opencv-python\n",
      "Successfully installed opencv-python-4.10.0.84\n"
     ]
    },
    {
     "name": "stderr",
     "output_type": "stream",
     "text": [
      "\u001b[34m\u001b[1mwandb\u001b[0m: Using wandb-core as the SDK backend.  Please refer to https://wandb.me/wandb-core for more information.\n",
      "\u001b[34m\u001b[1mwandb\u001b[0m: W&B API key is configured. Use \u001b[1m`wandb login --relogin`\u001b[0m to force relogin\n",
      "\u001b[34m\u001b[1mwandb\u001b[0m: \u001b[33mWARNING\u001b[0m If you're specifying your api key in code, ensure this code is not shared publicly.\n",
      "\u001b[34m\u001b[1mwandb\u001b[0m: \u001b[33mWARNING\u001b[0m Consider setting the WANDB_API_KEY environment variable, or running `wandb login` from the command line.\n",
      "\u001b[34m\u001b[1mwandb\u001b[0m: Appending key for api.wandb.ai to your netrc file: /root/.netrc\n"
     ]
    },
    {
     "data": {
      "text/plain": [
       "True"
      ]
     },
     "execution_count": 1,
     "metadata": {},
     "output_type": "execute_result"
    }
   ],
   "source": [
    "import os\n",
    "from google.colab import drive, userdata\n",
    "\n",
    "\n",
    "drive.mount('/content/drive')\n",
    "\n",
    "#SET YOUR PATHS!\n",
    "os.environ[\"DATA_STORAGE_DIR\"] = \"/content/drive/MyDrive/data/datasets/vitssm\"\n",
    "os.environ[\"DATA_DIR\"] = \"/content/ViTSSM/data_store\"\n",
    "os.environ[\"CHECKPOINT_DIR\"] = \"/content/drive/MyDrive/data/checkpoints\"\n",
    "os.environ[\"CONFIG_DIR\"] = \"/content/ViTSSM/configs\"\n",
    "os.environ[\"WANDB_ENTITY\"] = \"davidkuernsteiner\"\n",
    "#os.environ[\"GITHUB_API_KEY\"] = userdata.get(\"GITHUB_API_KEY\")\n",
    "\n",
    "#!git clone https://${GITHUB_API_KEY}@github.com/davidkuernsteiner/ContVidPred.git\n",
    "!git clone https://github.com/davidkuernsteiner/ContVidPred.git\n",
    "os.chdir(\"ContVidPred\")\n",
    "!pip install -r colab_requirements.txt\n",
    "!pip install -e .\n",
    "\n",
    "#reinstall cv2 to fix error: (-2:Unspecified error) The function is not implemented.\n",
    "!pip uninstall opencv-python --yes\n",
    "!pip install opencv-python\n",
    "\n",
    "!cp -r $DATA_STORAGE_DIR $DATA_DIR\n",
    "!for file in ${DATA_DIR}/*.tar; do tar -xf \"$file\" -C ${DATA_DIR} && rm \"$file\"; done\n",
    "\n",
    "import wandb\n",
    "wandb.login(\"never\", userdata.get(\"WANDB_API_KEY\"))\n"
   ]
  },
  {
   "cell_type": "code",
   "execution_count": null,
   "metadata": {
    "id": "l6ZfVrcdwNzP"
   },
   "outputs": [],
   "source": [
    "import os\n",
    "\n",
    "#SET YOUR PATHS\n",
    "os.environ[\"DATA_STORAGE_DIR\"] = \"/content/drive/MyDrive/data/datasets/vitssm\"\n",
    "os.environ[\"DATA_DIR\"] = \"/content/ViTSSM/data_store\"\n",
    "os.environ[\"CHECKPOINT_DIR\"] = \"/content/drive/MyDrive/data/checkpoints\"\n",
    "os.environ[\"CONFIG_DIR\"] = \"/content/ViTSSM/configs\"\n",
    "os.environ[\"WANDB_ENTITY\"] = \"davidkuernsteiner\"\n",
    "\n",
    "os.chdir(\"ViTSSM\")"
   ]
  },
  {
   "cell_type": "markdown",
   "metadata": {
    "id": "1ai0pzzlWwiK"
   },
   "source": [
    "# Run Jobs"
   ]
  },
  {
   "cell_type": "code",
   "execution_count": null,
   "metadata": {
    "colab": {
     "base_uri": "https://localhost:8080/"
    },
    "id": "Mu59EG_vcIEo",
    "outputId": "f6bee3a0-b475-44cb-8b57-5884aabca881",
    "vscode": {
     "languageId": "plaintext"
    }
   },
   "outputs": [
    {
     "name": "stdout",
     "output_type": "stream",
     "text": [
      "The cache for model files in Transformers v4.22.0 has been updated. Migrating your old cache. This is a one-time only operation. You can interrupt this and resume the migration later on by calling `transformers.utils.move_cache()`.\n",
      "\r0it [00:00, ?it/s]\r0it [00:00, ?it/s]\n",
      "2024-11-19 20:16:17.765465: I tensorflow/core/util/port.cc:153] oneDNN custom operations are on. You may see slightly different numerical results due to floating-point round-off errors from different computation orders. To turn them off, set the environment variable `TF_ENABLE_ONEDNN_OPTS=0`.\n",
      "2024-11-19 20:16:17.781798: E external/local_xla/xla/stream_executor/cuda/cuda_fft.cc:485] Unable to register cuFFT factory: Attempting to register factory for plugin cuFFT when one has already been registered\n",
      "2024-11-19 20:16:17.802793: E external/local_xla/xla/stream_executor/cuda/cuda_dnn.cc:8454] Unable to register cuDNN factory: Attempting to register factory for plugin cuDNN when one has already been registered\n",
      "2024-11-19 20:16:17.809285: E external/local_xla/xla/stream_executor/cuda/cuda_blas.cc:1452] Unable to register cuBLAS factory: Attempting to register factory for plugin cuBLAS when one has already been registered\n",
      "2024-11-19 20:16:17.825039: I tensorflow/core/platform/cpu_feature_guard.cc:210] This TensorFlow binary is optimized to use available CPU instructions in performance-critical operations.\n",
      "To enable the following instructions: AVX2 AVX512F AVX512_VNNI FMA, in other operations, rebuild TensorFlow with the appropriate compiler flags.\n",
      "2024-11-19 20:16:19.081891: W tensorflow/compiler/tf2tensorrt/utils/py_utils.cc:38] TF-TRT Warning: Could not find TensorRT\n",
      "\u001b[34m\u001b[1mwandb\u001b[0m: Using wandb-core as the SDK backend.  Please refer to https://wandb.me/wandb-core for more information.\n",
      "\u001b[34m\u001b[1mwandb\u001b[0m: Currently logged in as: \u001b[33mdavidkuernsteiner\u001b[0m. Use \u001b[1m`wandb login --relogin`\u001b[0m to force relogin\n",
      "\u001b[34m\u001b[1mwandb\u001b[0m: \u001b[33mWARNING\u001b[0m `wandb.require('core')` is redundant as it is now the default behavior.\n",
      "\u001b[34m\u001b[1mwandb\u001b[0m: Tracking run with wandb version 0.18.7\n",
      "\u001b[34m\u001b[1mwandb\u001b[0m: Run data is saved locally in \u001b[35m\u001b[1m/content/ViTSSM/wandb/run-20241119_201625-vmdsprites-DiT_M_2-32_20241119_201624\u001b[0m\n",
      "\u001b[34m\u001b[1mwandb\u001b[0m: Run \u001b[1m`wandb offline`\u001b[0m to turn off syncing.\n",
      "\u001b[34m\u001b[1mwandb\u001b[0m: Syncing run \u001b[33mvmdsprites-DiT_M_2-32\u001b[0m\n",
      "\u001b[34m\u001b[1mwandb\u001b[0m: ⭐️ View project at \u001b[34m\u001b[4mhttps://wandb.ai/davidkuernsteiner/ViTSSM\u001b[0m\n",
      "\u001b[34m\u001b[1mwandb\u001b[0m: 🚀 View run at \u001b[34m\u001b[4mhttps://wandb.ai/davidkuernsteiner/ViTSSM/runs/vmdsprites-DiT_M_2-32_20241119_201624\u001b[0m\n",
      "/content/ViTSSM/vitssm/models/diffusion/gaussian_diffusion.py:185: RuntimeWarning: divide by zero encountered in divide\n",
      "  self.sqrt_recip_alphas_cumprod = np.sqrt(1.0 / self.alphas_cumprod)\n",
      "/content/ViTSSM/vitssm/models/diffusion/gaussian_diffusion.py:186: RuntimeWarning: divide by zero encountered in divide\n",
      "  self.sqrt_recipm1_alphas_cumprod = np.sqrt(1.0 / self.alphas_cumprod - 1)\n",
      "/content/ViTSSM/vitssm/engine/__init__.py:49: FutureWarning: `torch.cuda.amp.GradScaler(args...)` is deprecated. Please use `torch.amp.GradScaler('cuda', args...)` instead.\n",
      "  self.scaler = torch.cuda.amp.GradScaler(enabled=self.use_amp)\n",
      "Epoch 1: 100% 141/141 [00:07<00:00, 18.29it/s]\n",
      "Epoch 2: 100% 141/141 [00:04<00:00, 29.72it/s]\n",
      "Epoch 3: 100% 141/141 [00:04<00:00, 29.69it/s]\n",
      "Epoch 4: 100% 141/141 [00:04<00:00, 29.44it/s]\n",
      "Epoch 5: 100% 141/141 [00:04<00:00, 29.99it/s]\n",
      "Epoch 6: 100% 141/141 [00:04<00:00, 29.90it/s]\n",
      "Epoch 7: 100% 141/141 [00:04<00:00, 29.16it/s]\n",
      "Epoch 8: 100% 141/141 [00:04<00:00, 29.32it/s]\n",
      "Epoch 9: 100% 141/141 [00:04<00:00, 29.35it/s]\n",
      "Epoch 10: 100% 141/141 [00:04<00:00, 28.79it/s]\n",
      "Epoch 11: 100% 141/141 [00:04<00:00, 29.53it/s]\n",
      "Epoch 12: 100% 141/141 [00:04<00:00, 29.24it/s]\n",
      "Epoch 13: 100% 141/141 [00:04<00:00, 28.89it/s]\n",
      "Epoch 14: 100% 141/141 [00:04<00:00, 29.17it/s]\n",
      "Epoch 15: 100% 141/141 [00:04<00:00, 28.85it/s]\n",
      "Epoch 16: 100% 141/141 [00:04<00:00, 28.25it/s]\n",
      "Epoch 17: 100% 141/141 [00:04<00:00, 29.26it/s]\n",
      "Epoch 18: 100% 141/141 [00:04<00:00, 29.09it/s]\n",
      "Epoch 19: 100% 141/141 [00:04<00:00, 29.12it/s]\n",
      "Epoch 20: 100% 141/141 [00:04<00:00, 29.51it/s]\n",
      "Epoch 21: 100% 141/141 [00:04<00:00, 29.10it/s]\n",
      "Epoch 22: 100% 141/141 [00:04<00:00, 28.62it/s]\n",
      "Epoch 23: 100% 141/141 [00:04<00:00, 29.72it/s]\n",
      "Epoch 24: 100% 141/141 [00:04<00:00, 29.41it/s]\n",
      "Epoch 25: 100% 141/141 [00:04<00:00, 29.18it/s]\n",
      "Epoch 26: 100% 141/141 [00:04<00:00, 29.20it/s]\n",
      "Epoch 27: 100% 141/141 [00:04<00:00, 29.34it/s]\n",
      "Epoch 28: 100% 141/141 [00:04<00:00, 29.42it/s]\n",
      "Epoch 29: 100% 141/141 [00:04<00:00, 29.46it/s]\n",
      "Epoch 30: 100% 141/141 [00:04<00:00, 29.54it/s]\n",
      "Epoch 31: 100% 141/141 [00:04<00:00, 29.08it/s]\n",
      "Epoch 32: 100% 141/141 [00:04<00:00, 29.13it/s]\n",
      "Epoch 33: 100% 141/141 [00:04<00:00, 29.07it/s]\n",
      "Epoch 34: 100% 141/141 [00:04<00:00, 29.40it/s]\n",
      "Epoch 35: 100% 141/141 [00:04<00:00, 29.36it/s]\n",
      "Epoch 36: 100% 141/141 [00:04<00:00, 28.69it/s]\n",
      "Epoch 37: 100% 141/141 [00:04<00:00, 29.04it/s]\n",
      "Epoch 38: 100% 141/141 [00:04<00:00, 29.45it/s]\n",
      "Epoch 39: 100% 141/141 [00:04<00:00, 28.98it/s]\n",
      "Epoch 40: 100% 141/141 [00:04<00:00, 29.21it/s]\n",
      "Epoch 41: 100% 141/141 [00:04<00:00, 29.39it/s]\n",
      "Epoch 42: 100% 141/141 [00:04<00:00, 29.05it/s]\n",
      "Epoch 43: 100% 141/141 [00:04<00:00, 29.41it/s]\n",
      "Epoch 44: 100% 141/141 [00:04<00:00, 29.14it/s]\n",
      "Epoch 45: 100% 141/141 [00:04<00:00, 29.62it/s]\n",
      "Epoch 46: 100% 141/141 [00:04<00:00, 29.17it/s]\n",
      "Epoch 47: 100% 141/141 [00:04<00:00, 28.90it/s]\n",
      "Epoch 48: 100% 141/141 [00:04<00:00, 28.91it/s]\n",
      "Epoch 49: 100% 141/141 [00:04<00:00, 29.02it/s]\n",
      "Epoch 50: 100% 141/141 [00:04<00:00, 29.57it/s]\n",
      "Epoch 51: 100% 141/141 [00:04<00:00, 28.98it/s]\n",
      "Epoch 52: 100% 141/141 [00:04<00:00, 29.25it/s]\n",
      "Epoch 53: 100% 141/141 [00:04<00:00, 29.59it/s]\n",
      "Epoch 54: 100% 141/141 [00:04<00:00, 28.87it/s]\n",
      "Epoch 55: 100% 141/141 [00:04<00:00, 29.50it/s]\n",
      "Epoch 56: 100% 141/141 [00:04<00:00, 29.36it/s]\n",
      "Epoch 57: 100% 141/141 [00:04<00:00, 28.96it/s]\n",
      "Epoch 58: 100% 141/141 [00:04<00:00, 29.16it/s]\n",
      "Epoch 59: 100% 141/141 [00:04<00:00, 29.35it/s]\n",
      "Epoch 60: 100% 141/141 [00:04<00:00, 29.02it/s]\n",
      "Epoch 61: 100% 141/141 [00:04<00:00, 29.06it/s]\n",
      "Epoch 62: 100% 141/141 [00:04<00:00, 29.28it/s]\n",
      "Epoch 63: 100% 141/141 [00:04<00:00, 28.93it/s]\n",
      "Epoch 64:  74% 105/141 [00:03<00:01, 29.79it/s]"
     ]
    }
   ],
   "source": [
    "!python scripts/train_upt_ae.py --config UPT/upt_ae_t_32_config.yml"
   ]
  },
  {
   "cell_type": "markdown",
   "metadata": {},
   "source": [
    "# Shutdown"
   ]
  },
  {
   "cell_type": "code",
   "execution_count": null,
   "metadata": {
    "vscode": {
     "languageId": "plaintext"
    }
   },
   "outputs": [],
   "source": [
    "from google.colab import runtime\n",
    "\n",
    "runtime.unassign()"
   ]
  }
 ],
 "metadata": {
  "accelerator": "GPU",
  "colab": {
   "gpuType": "L4",
   "include_colab_link": true,
   "machine_shape": "hm",
   "provenance": []
  },
  "kernelspec": {
   "display_name": "Python 3",
   "name": "python3"
  },
  "language_info": {
   "name": "python"
  }
 },
 "nbformat": 4,
 "nbformat_minor": 0
}
