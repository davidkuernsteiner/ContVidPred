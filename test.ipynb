{
 "cells": [
  {
   "cell_type": "code",
   "id": "initial_id",
   "metadata": {
    "collapsed": true,
    "ExecuteTime": {
     "end_time": "2024-06-04T15:24:25.037784Z",
     "start_time": "2024-06-04T15:24:25.031111Z"
    }
   },
   "source": [
    "%load_ext autoreload\n",
    "%autoreload 2"
   ],
   "outputs": [
    {
     "name": "stdout",
     "output_type": "stream",
     "text": [
      "The autoreload extension is already loaded. To reload it, use:\n",
      "  %reload_ext autoreload\n"
     ]
    }
   ],
   "execution_count": 2
  },
  {
   "metadata": {
    "ExecuteTime": {
     "end_time": "2024-06-04T15:49:31.069923Z",
     "start_time": "2024-06-04T15:45:54.010950Z"
    }
   },
   "cell_type": "code",
   "source": [
    "from vitssm.data import build_dataset\n",
    "from addict import Dict\n",
    "import kappaconfig as kc\n",
    "import os\n",
    "from pathlib import Path\n",
    "\n",
    "config = kc.from_file_uri(Path(\"configs\") / \"base_config.yml\")\n",
    "print(config.keys())\n",
    "res = kc.DefaultResolver()\n",
    "config = Dict(res.resolve(config))\n",
    "\n",
    "dataset = build_dataset(config)"
   ],
   "id": "bb498001513a97f0",
   "outputs": [
    {
     "name": "stdout",
     "output_type": "stream",
     "text": [
      "dict_keys(['root_dir', 'experiment', 'dataset', 'optimization', 'model'])\n"
     ]
    },
    {
     "name": "stderr",
     "output_type": "stream",
     "text": [
      "100%|██████████| 833/833 [03:35<00:00,  3.86it/s]\n",
      "/home/david/micromamba/envs/vitssm/lib/python3.12/site-packages/torchvision/datasets/video_utils.py:219: UserWarning: There aren't enough frames in the current video to get a clip for the given clip length and frames between clips. The video (and potentially others) will be skipped.\n",
      "  warnings.warn(\n"
     ]
    }
   ],
   "execution_count": 1
  },
  {
   "metadata": {
    "ExecuteTime": {
     "end_time": "2024-06-04T15:50:37.276710Z",
     "start_time": "2024-06-04T15:50:37.209689Z"
    }
   },
   "cell_type": "code",
   "source": "dataset[1000][2]",
   "id": "f972fac984f68fb9",
   "outputs": [
    {
     "data": {
      "text/plain": [
       "17"
      ]
     },
     "execution_count": 6,
     "metadata": {},
     "output_type": "execute_result"
    }
   ],
   "execution_count": 6
  },
  {
   "metadata": {
    "ExecuteTime": {
     "end_time": "2024-06-03T13:57:38.846192Z",
     "start_time": "2024-06-03T13:57:38.838632Z"
    }
   },
   "cell_type": "code",
   "source": [
    "print(os.getcwd())\n",
    "os.chdir()"
   ],
   "id": "974f623708d4b802",
   "outputs": [
    {
     "name": "stdout",
     "output_type": "stream",
     "text": [
      "/mnt/c/Users/david/Desktop/ViTSSM\n"
     ]
    }
   ],
   "execution_count": 20
  },
  {
   "metadata": {
    "ExecuteTime": {
     "end_time": "2024-05-28T10:54:04.177290Z",
     "start_time": "2024-05-28T10:54:04.163653Z"
    }
   },
   "cell_type": "code",
   "source": "dataset",
   "id": "bcd0ac6bd1ed53a4",
   "outputs": [
    {
     "ename": "NameError",
     "evalue": "name 'dataset' is not defined",
     "output_type": "error",
     "traceback": [
      "\u001B[0;31m---------------------------------------------------------------------------\u001B[0m",
      "\u001B[0;31mNameError\u001B[0m                                 Traceback (most recent call last)",
      "Cell \u001B[0;32mIn[5], line 1\u001B[0m\n\u001B[0;32m----> 1\u001B[0m \u001B[43mdataset\u001B[49m\n",
      "\u001B[0;31mNameError\u001B[0m: name 'dataset' is not defined"
     ]
    }
   ],
   "execution_count": 5
  },
  {
   "metadata": {
    "ExecuteTime": {
     "end_time": "2024-06-04T15:21:27.924762Z",
     "start_time": "2024-06-04T15:21:27.916119Z"
    }
   },
   "cell_type": "code",
   "source": "train_dataset[0].permute(0, 2, 3, 1).repeat(1, 1, 1, 3).shape",
   "id": "33b0a9cf007aff2a",
   "outputs": [
    {
     "ename": "NameError",
     "evalue": "name 'train_dataset' is not defined",
     "output_type": "error",
     "traceback": [
      "\u001B[0;31m---------------------------------------------------------------------------\u001B[0m",
      "\u001B[0;31mNameError\u001B[0m                                 Traceback (most recent call last)",
      "Cell \u001B[0;32mIn[6], line 1\u001B[0m\n\u001B[0;32m----> 1\u001B[0m \u001B[43mtrain_dataset\u001B[49m[\u001B[38;5;241m0\u001B[39m]\u001B[38;5;241m.\u001B[39mpermute(\u001B[38;5;241m0\u001B[39m, \u001B[38;5;241m2\u001B[39m, \u001B[38;5;241m3\u001B[39m, \u001B[38;5;241m1\u001B[39m)\u001B[38;5;241m.\u001B[39mrepeat(\u001B[38;5;241m1\u001B[39m, \u001B[38;5;241m1\u001B[39m, \u001B[38;5;241m1\u001B[39m, \u001B[38;5;241m3\u001B[39m)\u001B[38;5;241m.\u001B[39mshape\n",
      "\u001B[0;31mNameError\u001B[0m: name 'train_dataset' is not defined"
     ]
    }
   ],
   "execution_count": 6
  },
  {
   "metadata": {
    "ExecuteTime": {
     "end_time": "2024-05-17T10:33:52.225042Z",
     "start_time": "2024-05-17T10:33:52.209311Z"
    }
   },
   "cell_type": "code",
   "source": [
    "from torchvision.io import write_video\n",
    "\n",
    "write_video(\"test.mp4\", train_dataset[0].permute(0, 2, 3, 1).repeat(1, 1, 1, 3), fps=10)"
   ],
   "id": "9ecb78a7e053d5de",
   "outputs": [],
   "execution_count": 9
  }
 ],
 "metadata": {
  "kernelspec": {
   "display_name": "Python 3",
   "language": "python",
   "name": "python3"
  },
  "language_info": {
   "codemirror_mode": {
    "name": "ipython",
    "version": 2
   },
   "file_extension": ".py",
   "mimetype": "text/x-python",
   "name": "python",
   "nbconvert_exporter": "python",
   "pygments_lexer": "ipython2",
   "version": "2.7.6"
  }
 },
 "nbformat": 4,
 "nbformat_minor": 5
}
