{
 "cells": [
  {
   "cell_type": "code",
   "id": "initial_id",
   "metadata": {
    "collapsed": true,
    "ExecuteTime": {
     "end_time": "2024-07-03T14:01:13.353175Z",
     "start_time": "2024-07-03T14:01:13.332021Z"
    }
   },
   "source": [
    "%load_ext autoreload\n",
    "%autoreload 2"
   ],
   "outputs": [],
   "execution_count": 11
  },
  {
   "metadata": {
    "ExecuteTime": {
     "end_time": "2024-07-03T14:04:43.636050Z",
     "start_time": "2024-07-03T14:04:43.422939Z"
    }
   },
   "cell_type": "code",
   "source": [
    "from vitssm.utils.metrics import MetricContainer\n",
    "from torchmetrics import Accuracy, Precision, Recall\n",
    "import torch\n",
    "\n",
    "metrics = [\n",
    "    Accuracy(task=\"multiclass\",\n",
    "             num_classes=100),\n",
    "    Precision(task=\"multiclass\",\n",
    "              num_classes=100),\n",
    "    Recall(task=\"multiclass\",\n",
    "           num_classes=100)\n",
    "]\n",
    "\n",
    "metric_container = MetricContainer(metrics)\n",
    "\n",
    "x = torch.randn(100, 100)\n",
    "\n",
    "metric_container(x)"
   ],
   "id": "b07a01979edfaac7",
   "outputs": [
    {
     "ename": "AttributeError",
     "evalue": "'MulticlassAccuracy' object has no attribute 'name'",
     "output_type": "error",
     "traceback": [
      "\u001B[0;31m---------------------------------------------------------------------------\u001B[0m",
      "\u001B[0;31mAttributeError\u001B[0m                            Traceback (most recent call last)",
      "Cell \u001B[0;32mIn[18], line 18\u001B[0m\n\u001B[1;32m     14\u001B[0m metric_container \u001B[38;5;241m=\u001B[39m MetricContainer(metrics)\n\u001B[1;32m     16\u001B[0m x \u001B[38;5;241m=\u001B[39m torch\u001B[38;5;241m.\u001B[39mrandn(\u001B[38;5;241m100\u001B[39m, \u001B[38;5;241m100\u001B[39m)\n\u001B[0;32m---> 18\u001B[0m \u001B[43mmetric_container\u001B[49m\u001B[43m(\u001B[49m\u001B[43mx\u001B[49m\u001B[43m)\u001B[49m\n",
      "File \u001B[0;32m/mnt/c/Users/david/Desktop/ViTSSM/vitssm/utils/metrics.py:12\u001B[0m, in \u001B[0;36mMetricContainer.__call__\u001B[0;34m(self, *args, **kwargs)\u001B[0m\n\u001B[1;32m     11\u001B[0m \u001B[38;5;28;01mdef\u001B[39;00m \u001B[38;5;21m__call__\u001B[39m(\u001B[38;5;28mself\u001B[39m, \u001B[38;5;241m*\u001B[39margs, \u001B[38;5;241m*\u001B[39m\u001B[38;5;241m*\u001B[39mkwargs) \u001B[38;5;241m-\u001B[39m\u001B[38;5;241m>\u001B[39m \u001B[38;5;28mdict\u001B[39m:\n\u001B[0;32m---> 12\u001B[0m     \u001B[38;5;28;01mreturn\u001B[39;00m {\u001B[43mmetric\u001B[49m\u001B[38;5;241;43m.\u001B[39;49m\u001B[43mname\u001B[49m: metric(\u001B[38;5;241m*\u001B[39margs, \u001B[38;5;241m*\u001B[39m\u001B[38;5;241m*\u001B[39mkwargs) \u001B[38;5;28;01mfor\u001B[39;00m metric \u001B[38;5;129;01min\u001B[39;00m \u001B[38;5;28mself\u001B[39m\u001B[38;5;241m.\u001B[39mmetrics}\n",
      "File \u001B[0;32m~/micromamba/envs/vitssm/lib/python3.12/site-packages/torch/nn/modules/module.py:1709\u001B[0m, in \u001B[0;36mModule.__getattr__\u001B[0;34m(self, name)\u001B[0m\n\u001B[1;32m   1707\u001B[0m     \u001B[38;5;28;01mif\u001B[39;00m name \u001B[38;5;129;01min\u001B[39;00m modules:\n\u001B[1;32m   1708\u001B[0m         \u001B[38;5;28;01mreturn\u001B[39;00m modules[name]\n\u001B[0;32m-> 1709\u001B[0m \u001B[38;5;28;01mraise\u001B[39;00m \u001B[38;5;167;01mAttributeError\u001B[39;00m(\u001B[38;5;124mf\u001B[39m\u001B[38;5;124m\"\u001B[39m\u001B[38;5;124m'\u001B[39m\u001B[38;5;132;01m{\u001B[39;00m\u001B[38;5;28mtype\u001B[39m(\u001B[38;5;28mself\u001B[39m)\u001B[38;5;241m.\u001B[39m\u001B[38;5;18m__name__\u001B[39m\u001B[38;5;132;01m}\u001B[39;00m\u001B[38;5;124m'\u001B[39m\u001B[38;5;124m object has no attribute \u001B[39m\u001B[38;5;124m'\u001B[39m\u001B[38;5;132;01m{\u001B[39;00mname\u001B[38;5;132;01m}\u001B[39;00m\u001B[38;5;124m'\u001B[39m\u001B[38;5;124m\"\u001B[39m)\n",
      "\u001B[0;31mAttributeError\u001B[0m: 'MulticlassAccuracy' object has no attribute 'name'"
     ]
    }
   ],
   "execution_count": 18
  },
  {
   "metadata": {
    "ExecuteTime": {
     "end_time": "2024-07-03T14:05:17.316352Z",
     "start_time": "2024-07-03T14:05:17.280944Z"
    }
   },
   "cell_type": "code",
   "source": [
    "Accuracy(task=\"multiclass\",\n",
    "             num_classes=100).__repr__()"
   ],
   "id": "1042ceed12d208a8",
   "outputs": [
    {
     "data": {
      "text/plain": [
       "'MulticlassAccuracy()'"
      ]
     },
     "execution_count": 19,
     "metadata": {},
     "output_type": "execute_result"
    }
   ],
   "execution_count": 19
  },
  {
   "metadata": {
    "ExecuteTime": {
     "end_time": "2024-07-03T13:38:49.121685Z",
     "start_time": "2024-07-03T13:38:49.082847Z"
    }
   },
   "cell_type": "code",
   "source": [
    "from addict import Dict\n",
    "from omegaconf import OmegaConf\n",
    "from pathlib import Path\n",
    "\n",
    "base_config = OmegaConf.load(Path(\"configs\") / \"base_config.yml\")\n",
    "config = OmegaConf.load(Path(\"configs\") / \"config_run_1.yml\")\n",
    "conf = OmegaConf.merge(base_config, config)"
   ],
   "id": "2bb9250dc232ff44",
   "outputs": [],
   "execution_count": 2
  },
  {
   "metadata": {
    "ExecuteTime": {
     "end_time": "2024-07-03T13:42:34.309538Z",
     "start_time": "2024-07-03T13:42:34.301092Z"
    }
   },
   "cell_type": "code",
   "source": "",
   "id": "fb76c45524031bfe",
   "outputs": [
    {
     "data": {
      "text/plain": [
       "omegaconf.dictconfig.DictConfig"
      ]
     },
     "execution_count": 10,
     "metadata": {},
     "output_type": "execute_result"
    }
   ],
   "execution_count": 10
  },
  {
   "metadata": {
    "ExecuteTime": {
     "end_time": "2024-06-06T04:57:40.918319Z",
     "start_time": "2024-06-06T04:57:39.017315Z"
    }
   },
   "cell_type": "code",
   "source": [
    "from vitssm.engine import build_optimizer\n",
    "from addict import Dict\n",
    "from torch import nn\n",
    "\n",
    "config = Dict({\n",
    "    \"optimization\": {\n",
    "        \"optimizer\": {\n",
    "            \"name\": \"Adam\",\n",
    "            \"args\": {\n",
    "                \"lr\": 0.001,\n",
    "                \"weight_decay\": 0.0\n",
    "            }\n",
    "        }\n",
    "    }    \n",
    "})\n",
    "\n",
    "model = nn.Linear(10, 10)\n",
    "build_optimizer(model, config)"
   ],
   "id": "f6d77fd87f203b2e",
   "outputs": [
    {
     "data": {
      "text/plain": [
       "Adam (\n",
       "Parameter Group 0\n",
       "    amsgrad: False\n",
       "    betas: (0.9, 0.999)\n",
       "    capturable: False\n",
       "    differentiable: False\n",
       "    eps: 1e-08\n",
       "    foreach: None\n",
       "    fused: None\n",
       "    lr: 0.001\n",
       "    maximize: False\n",
       "    weight_decay: 0.0\n",
       ")"
      ]
     },
     "execution_count": 3,
     "metadata": {},
     "output_type": "execute_result"
    }
   ],
   "execution_count": 3
  },
  {
   "metadata": {},
   "cell_type": "code",
   "outputs": [],
   "execution_count": null,
   "source": "",
   "id": "1579710ed660610d"
  },
  {
   "metadata": {
    "ExecuteTime": {
     "end_time": "2024-06-04T15:49:31.069923Z",
     "start_time": "2024-06-04T15:45:54.010950Z"
    }
   },
   "cell_type": "code",
   "source": [
    "from vitssm.data import build_dataset\n",
    "from addict import Dict\n",
    "import kappaconfig as kc\n",
    "import os\n",
    "from pathlib import Path\n",
    "\n",
    "config = kc.from_file_uri(Path(\"configs\") / \"base_config.yml\")\n",
    "print(config.keys())\n",
    "res = kc.DefaultResolver()\n",
    "config = Dict(res.resolve(config))\n",
    "\n",
    "dataset = build_dataset(config)"
   ],
   "id": "bb498001513a97f0",
   "outputs": [
    {
     "name": "stdout",
     "output_type": "stream",
     "text": [
      "dict_keys(['root_dir', 'experiment', 'dataset', 'optimization', 'model'])\n"
     ]
    },
    {
     "name": "stderr",
     "output_type": "stream",
     "text": [
      "100%|██████████| 833/833 [03:35<00:00,  3.86it/s]\n",
      "/home/david/micromamba/envs/vitssm/lib/python3.12/site-packages/torchvision/datasets/video_utils.py:219: UserWarning: There aren't enough frames in the current video to get a clip for the given clip length and frames between clips. The video (and potentially others) will be skipped.\n",
      "  warnings.warn(\n"
     ]
    }
   ],
   "execution_count": 1
  },
  {
   "metadata": {
    "ExecuteTime": {
     "end_time": "2024-06-04T15:50:37.276710Z",
     "start_time": "2024-06-04T15:50:37.209689Z"
    }
   },
   "cell_type": "code",
   "source": "dataset[1000][2]",
   "id": "f972fac984f68fb9",
   "outputs": [
    {
     "data": {
      "text/plain": [
       "17"
      ]
     },
     "execution_count": 6,
     "metadata": {},
     "output_type": "execute_result"
    }
   ],
   "execution_count": 6
  },
  {
   "metadata": {
    "ExecuteTime": {
     "end_time": "2024-06-03T13:57:38.846192Z",
     "start_time": "2024-06-03T13:57:38.838632Z"
    }
   },
   "cell_type": "code",
   "source": [
    "print(os.getcwd())\n",
    "os.chdir()"
   ],
   "id": "974f623708d4b802",
   "outputs": [
    {
     "name": "stdout",
     "output_type": "stream",
     "text": [
      "/mnt/c/Users/david/Desktop/ViTSSM\n"
     ]
    }
   ],
   "execution_count": 20
  },
  {
   "metadata": {
    "ExecuteTime": {
     "end_time": "2024-05-28T10:54:04.177290Z",
     "start_time": "2024-05-28T10:54:04.163653Z"
    }
   },
   "cell_type": "code",
   "source": "dataset",
   "id": "bcd0ac6bd1ed53a4",
   "outputs": [
    {
     "ename": "NameError",
     "evalue": "name 'dataset' is not defined",
     "output_type": "error",
     "traceback": [
      "\u001B[0;31m---------------------------------------------------------------------------\u001B[0m",
      "\u001B[0;31mNameError\u001B[0m                                 Traceback (most recent call last)",
      "Cell \u001B[0;32mIn[5], line 1\u001B[0m\n\u001B[0;32m----> 1\u001B[0m \u001B[43mdataset\u001B[49m\n",
      "\u001B[0;31mNameError\u001B[0m: name 'dataset' is not defined"
     ]
    }
   ],
   "execution_count": 5
  },
  {
   "metadata": {
    "ExecuteTime": {
     "end_time": "2024-06-04T15:21:27.924762Z",
     "start_time": "2024-06-04T15:21:27.916119Z"
    }
   },
   "cell_type": "code",
   "source": "train_dataset[0].permute(0, 2, 3, 1).repeat(1, 1, 1, 3).shape",
   "id": "33b0a9cf007aff2a",
   "outputs": [
    {
     "ename": "NameError",
     "evalue": "name 'train_dataset' is not defined",
     "output_type": "error",
     "traceback": [
      "\u001B[0;31m---------------------------------------------------------------------------\u001B[0m",
      "\u001B[0;31mNameError\u001B[0m                                 Traceback (most recent call last)",
      "Cell \u001B[0;32mIn[6], line 1\u001B[0m\n\u001B[0;32m----> 1\u001B[0m \u001B[43mtrain_dataset\u001B[49m[\u001B[38;5;241m0\u001B[39m]\u001B[38;5;241m.\u001B[39mpermute(\u001B[38;5;241m0\u001B[39m, \u001B[38;5;241m2\u001B[39m, \u001B[38;5;241m3\u001B[39m, \u001B[38;5;241m1\u001B[39m)\u001B[38;5;241m.\u001B[39mrepeat(\u001B[38;5;241m1\u001B[39m, \u001B[38;5;241m1\u001B[39m, \u001B[38;5;241m1\u001B[39m, \u001B[38;5;241m3\u001B[39m)\u001B[38;5;241m.\u001B[39mshape\n",
      "\u001B[0;31mNameError\u001B[0m: name 'train_dataset' is not defined"
     ]
    }
   ],
   "execution_count": 6
  },
  {
   "metadata": {
    "ExecuteTime": {
     "end_time": "2024-05-17T10:33:52.225042Z",
     "start_time": "2024-05-17T10:33:52.209311Z"
    }
   },
   "cell_type": "code",
   "source": [
    "from torchvision.io import write_video\n",
    "\n",
    "write_video(\"test.mp4\", train_dataset[0].permute(0, 2, 3, 1).repeat(1, 1, 1, 3), fps=10)"
   ],
   "id": "9ecb78a7e053d5de",
   "outputs": [],
   "execution_count": 9
  }
 ],
 "metadata": {
  "kernelspec": {
   "display_name": "Python 3",
   "language": "python",
   "name": "python3"
  },
  "language_info": {
   "codemirror_mode": {
    "name": "ipython",
    "version": 2
   },
   "file_extension": ".py",
   "mimetype": "text/x-python",
   "name": "python",
   "nbconvert_exporter": "python",
   "pygments_lexer": "ipython2",
   "version": "2.7.6"
  }
 },
 "nbformat": 4,
 "nbformat_minor": 5
}
