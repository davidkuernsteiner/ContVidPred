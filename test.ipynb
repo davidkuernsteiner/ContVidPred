{
 "cells": [
  {
   "cell_type": "code",
   "id": "initial_id",
   "metadata": {
    "collapsed": true,
    "ExecuteTime": {
     "end_time": "2024-05-17T10:31:03.908082Z",
     "start_time": "2024-05-17T10:31:01.439353Z"
    }
   },
   "source": "from torchvision.datasets import MovingMNIST",
   "outputs": [],
   "execution_count": 1
  },
  {
   "metadata": {
    "ExecuteTime": {
     "end_time": "2024-05-17T10:31:14.187409Z",
     "start_time": "2024-05-17T10:31:03.910288Z"
    }
   },
   "cell_type": "code",
   "source": [
    "train_dataset = MovingMNIST(root='data', split=\"train\", download=True, transform=None)\n",
    "test_dataset = MovingMNIST(root='data', split=\"test\", download=True, transform=None)"
   ],
   "id": "bb498001513a97f0",
   "outputs": [],
   "execution_count": 2
  },
  {
   "metadata": {
    "ExecuteTime": {
     "end_time": "2024-05-17T10:33:46.719264Z",
     "start_time": "2024-05-17T10:33:46.709800Z"
    }
   },
   "cell_type": "code",
   "source": "train_dataset[0].permute(0, 2, 3, 1).repeat(1, 1, 1, 3).shape",
   "id": "33b0a9cf007aff2a",
   "outputs": [
    {
     "data": {
      "text/plain": [
       "torch.Size([10, 64, 64, 3])"
      ]
     },
     "execution_count": 8,
     "metadata": {},
     "output_type": "execute_result"
    }
   ],
   "execution_count": 8
  },
  {
   "metadata": {
    "ExecuteTime": {
     "end_time": "2024-05-17T10:33:52.225042Z",
     "start_time": "2024-05-17T10:33:52.209311Z"
    }
   },
   "cell_type": "code",
   "source": [
    "from torchvision.io import write_video\n",
    "\n",
    "write_video(\"test.mp4\", train_dataset[0].permute(0, 2, 3, 1).repeat(1, 1, 1, 3), fps=10)"
   ],
   "id": "9ecb78a7e053d5de",
   "outputs": [],
   "execution_count": 9
  },
  {
   "metadata": {},
   "cell_type": "code",
   "outputs": [],
   "execution_count": null,
   "source": "",
   "id": "a97129b3644ccf05"
  }
 ],
 "metadata": {
  "kernelspec": {
   "display_name": "Python 3",
   "language": "python",
   "name": "python3"
  },
  "language_info": {
   "codemirror_mode": {
    "name": "ipython",
    "version": 2
   },
   "file_extension": ".py",
   "mimetype": "text/x-python",
   "name": "python",
   "nbconvert_exporter": "python",
   "pygments_lexer": "ipython2",
   "version": "2.7.6"
  }
 },
 "nbformat": 4,
 "nbformat_minor": 5
}
