{
 "cells": [
  {
   "cell_type": "code",
   "execution_count": null,
   "metadata": {},
   "outputs": [
    {
     "name": "stdout",
     "output_type": "stream",
     "text": [
      "tensor([[   0.0000,    0.0000,    0.0000],\n",
      "        [   0.0000,    0.0000,   32.2581],\n",
      "        [   0.0000,    0.0000,   64.5161],\n",
      "        ...,\n",
      "        [1000.0000, 2032.2581, 1967.7419],\n",
      "        [1000.0000, 2032.2581, 2000.0000],\n",
      "        [1000.0000, 2032.2581, 2032.2581]])\n"
     ]
    },
    {
     "data": {
      "text/plain": [
       "torch.Size([1, 4, 3, 64, 64])"
      ]
     },
     "execution_count": 12,
     "metadata": {},
     "output_type": "execute_result"
    }
   ],
   "source": [
    "import torch\n",
    "from einops import rearrange, repeat\n",
    "from vitssm.models.upt._autoencoder import UPTVideoAutoencoder\n",
    "\n",
    "model = UPTVideoAutoencoder()\n",
    "\n",
    "x = torch.randn(1, 4, 3, 32, 32)\n",
    "b, t, c, h, w = x.shape\n",
    "\n",
    "upscale_factor = 1\n",
    "t_out, h_out, w_out = u\n",
    "output_pos = rearrange(\n",
    "    torch.stack(torch.meshgrid([torch.arange(t), torch.arange(h), torch.arange(h)], indexing=\"ij\")),\n",
    "    \"ndim time height width -> (time height width) ndim\",\n",
    ").float()\n",
    "\n",
    "dims = torch.Tensor([4, 32, 32])\n",
    "output_pos = output_pos / (dims - 1) * 1000\n",
    "print(output_pos)\n",
    "output_pos = repeat(output_pos, \"... -> b ...\", b=b)\n",
    "\n",
    "model(x, output_pos).shape"
   ]
  },
  {
   "cell_type": "code",
   "execution_count": 2,
   "metadata": {},
   "outputs": [
    {
     "data": {
      "text/plain": [
       "[<matplotlib.lines.Line2D at 0x7f7dc0820980>]"
      ]
     },
     "execution_count": 2,
     "metadata": {},
     "output_type": "execute_result"
    },
    {
     "data": {
      "image/png": "[encoded data removed]",
      "text/plain": [
       "<Figure size 640x480 with 1 Axes>"
      ]
     },
     "metadata": {},
     "output_type": "display_data"
    }
   ],
   "source": [
    "import matplotlib.pyplot as plt\n",
    "import numpy as np\n",
    "\n",
    "warmup_steps = 10000\n",
    "decay_steps = 90000\n",
    "scheduler_gamma = 0.0\n",
    "\n",
    "\n",
    "def warm_and_exp_decay_lr(step: int):\n",
    "    if step < warmup_steps:\n",
    "        return step / warmup_steps\n",
    "\n",
    "    return scheduler_gamma ** (step / decay_steps - warmup_steps / decay_steps)\n",
    "\n",
    "def warm_and_cosine_decay_lr(step: int):\n",
    "    if step < warmup_steps:\n",
    "        return step / warmup_steps\n",
    "\n",
    "    return scheduler_gamma + 0.5 * (1 - scheduler_gamma) * (1 + np.cos((step / decay_steps - warmup_steps / decay_steps) * np.pi))\n",
    "\n",
    "x = list(range(100000))\n",
    "y_exp = list(map(warm_and_exp_decay_lr, x))\n",
    "y_cos = list(map(warm_and_cosine_decay_lr, x))\n",
    "plt.plot(x, y_exp, label=\"exp\")\n",
    "plt.plot(x, y_cos, label=\"cos\")"
   ]
  },
  {
   "cell_type": "code",
   "execution_count": 1,
   "metadata": {},
   "outputs": [
    {
     "name": "stdout",
     "output_type": "stream",
     "text": [
      "autoencoder:  2038275\n",
      "approximator:  894720\n",
      "total:  2932995\n"
     ]
    }
   ],
   "source": [
    "from vitssm.models.upt._autoencoder import UPTVAE_M, UPTVAE_T\n",
    "from vitssm.models.upt._approximator import UPTA_M, UPTA_T\n",
    "from vitssm.utils import count_parameters\n",
    "import torch\n",
    "from einops import rearrange, repeat\n",
    "\n",
    "ae = UPTVAE_T(resolution=(4, 32, 32))\n",
    "app = UPTA_T()\n",
    "\n",
    "#x = torch.randn(1, 4, 3, 32, 32)\n",
    "#\n",
    "#b, f, c, h, w = x.shape\n",
    "#x = rearrange(x, \"b f c h w -> (b f) c h w\")\n",
    "#output_pos = rearrange(\n",
    "#    torch.stack(torch.meshgrid([torch.arange(32), torch.arange(32)], indexing=\"ij\")),\n",
    "#    \"ndim height width -> (height width) ndim\",\n",
    "#).float()\n",
    "#\n",
    "#x = ae.encode(x)\n",
    "#print(x.shape)\n",
    "#x = rearrange(x, \"(b f) t e -> b f t e\", b=b, f=f)\n",
    "#x = app(x)\n",
    "#print(x.shape)\n",
    "\n",
    "print(\"autoencoder: \", count_parameters(ae))\n",
    "print(\"approximator: \", count_parameters(app))\n",
    "print(\"total: \", count_parameters(ae) + count_parameters(app))"
   ]
  },
  {
   "cell_type": "code",
   "execution_count": 1,
   "metadata": {},
   "outputs": [
    {
     "data": {
      "text/plain": [
       "1057444"
      ]
     },
     "execution_count": 1,
     "metadata": {},
     "output_type": "execute_result"
    }
   ],
   "source": [
    "from vitssm.models.dit import DiT_models\n",
    "from vitssm.utils import count_parameters\n",
    "\n",
    "model = DiT_models[\"DiT_M_1\"]()\n",
    "model.initialize_weights()\n",
    "count_parameters(model)"
   ]
  },
  {
   "cell_type": "code",
   "execution_count": 9,
   "metadata": {},
   "outputs": [
    {
     "ename": "ImportError",
     "evalue": "cannot import name 'CaptionProjection' from 'diffusers.models.embeddings' (/home/david/micromamba/envs/vitssm/lib/python3.12/site-packages/diffusers/models/embeddings.py)",
     "output_type": "error",
     "traceback": [
      "\u001b[0;31m---------------------------------------------------------------------------\u001b[0m",
      "\u001b[0;31mImportError\u001b[0m                               Traceback (most recent call last)",
      "Cell \u001b[0;32mIn[9], line 1\u001b[0m\n\u001b[0;32m----> 1\u001b[0m \u001b[38;5;28;01mfrom\u001b[39;00m \u001b[38;5;21;01mvitssm\u001b[39;00m\u001b[38;5;21;01m.\u001b[39;00m\u001b[38;5;21;01mmodels\u001b[39;00m\u001b[38;5;21;01m.\u001b[39;00m\u001b[38;5;21;01mdiffusion\u001b[39;00m \u001b[38;5;28;01mimport\u001b[39;00m create_diffusion\n\u001b[1;32m      2\u001b[0m \u001b[38;5;28;01mimport\u001b[39;00m \u001b[38;5;21;01mtorch\u001b[39;00m\u001b[38;5;21;01m.\u001b[39;00m\u001b[38;5;21;01mnn\u001b[39;00m \u001b[38;5;28;01mas\u001b[39;00m \u001b[38;5;21;01mnn\u001b[39;00m\n\u001b[1;32m      3\u001b[0m \u001b[38;5;28;01mimport\u001b[39;00m \u001b[38;5;21;01mtorch\u001b[39;00m\n",
      "File \u001b[0;32m~/projects/ViTSSM/vitssm/models/__init__.py:7\u001b[0m\n\u001b[1;32m      4\u001b[0m \u001b[38;5;28;01mfrom\u001b[39;00m \u001b[38;5;21;01mdiffusers\u001b[39;00m\u001b[38;5;21;01m.\u001b[39;00m\u001b[38;5;21;01mmodels\u001b[39;00m\u001b[38;5;21;01m.\u001b[39;00m\u001b[38;5;21;01mautoencoders\u001b[39;00m\u001b[38;5;21;01m.\u001b[39;00m\u001b[38;5;21;01mautoencoder_kl\u001b[39;00m \u001b[38;5;28;01mimport\u001b[39;00m AutoencoderKL\n\u001b[1;32m      6\u001b[0m \u001b[38;5;28;01mfrom\u001b[39;00m \u001b[38;5;21;01m.\u001b[39;00m\u001b[38;5;21;01mvae\u001b[39;00m \u001b[38;5;28;01mimport\u001b[39;00m VideoVAEConfig\n\u001b[0;32m----> 7\u001b[0m \u001b[38;5;28;01mfrom\u001b[39;00m \u001b[38;5;21;01m.\u001b[39;00m\u001b[38;5;21;01mlatte\u001b[39;00m \u001b[38;5;28;01mimport\u001b[39;00m LatteDiffusionModelConfig, LatteDiffusionModel\n\u001b[1;32m      8\u001b[0m \u001b[38;5;28;01mfrom\u001b[39;00m \u001b[38;5;21;01m.\u001b[39;00m\u001b[38;5;21;01mdit\u001b[39;00m \u001b[38;5;28;01mimport\u001b[39;00m NextFrameDiTModelConfig, NextFrameDiTModel\n\u001b[1;32m      9\u001b[0m \u001b[38;5;28;01mfrom\u001b[39;00m \u001b[38;5;21;01m.\u001b[39;00m\u001b[38;5;21;01munet\u001b[39;00m \u001b[38;5;28;01mimport\u001b[39;00m UncondUNetModel, UncondUNetModelConfig, NextFrameUNetModel, NextFrameUNetModelConfig\n",
      "File \u001b[0;32m~/projects/ViTSSM/vitssm/models/latte.py:7\u001b[0m\n\u001b[1;32m      4\u001b[0m \u001b[38;5;28;01mfrom\u001b[39;00m \u001b[38;5;21;01mpydantic\u001b[39;00m \u001b[38;5;28;01mimport\u001b[39;00m BaseModel\n\u001b[1;32m      5\u001b[0m \u001b[38;5;28;01mfrom\u001b[39;00m \u001b[38;5;21;01meinops\u001b[39;00m \u001b[38;5;28;01mimport\u001b[39;00m rearrange\n\u001b[0;32m----> 7\u001b[0m \u001b[38;5;28;01mfrom\u001b[39;00m \u001b[38;5;21;01mlatte\u001b[39;00m\u001b[38;5;21;01m.\u001b[39;00m\u001b[38;5;21;01mmodels\u001b[39;00m\u001b[38;5;21;01m.\u001b[39;00m\u001b[38;5;21;01mlatte\u001b[39;00m \u001b[38;5;28;01mimport\u001b[39;00m Latte\n\u001b[1;32m      8\u001b[0m \u001b[38;5;28;01mfrom\u001b[39;00m \u001b[38;5;21;01mlatte\u001b[39;00m\u001b[38;5;21;01m.\u001b[39;00m\u001b[38;5;21;01mdiffusion\u001b[39;00m \u001b[38;5;28;01mimport\u001b[39;00m create_diffusion\n\u001b[1;32m      9\u001b[0m \u001b[38;5;28;01mfrom\u001b[39;00m \u001b[38;5;21;01mdiffusers\u001b[39;00m\u001b[38;5;21;01m.\u001b[39;00m\u001b[38;5;21;01mmodels\u001b[39;00m\u001b[38;5;21;01m.\u001b[39;00m\u001b[38;5;21;01mautoencoders\u001b[39;00m\u001b[38;5;21;01m.\u001b[39;00m\u001b[38;5;21;01mautoencoder_kl\u001b[39;00m \u001b[38;5;28;01mimport\u001b[39;00m AutoencoderKL\n",
      "File \u001b[0;32m~/projects/ViTSSM/libs/latte/latte/models/__init__.py:7\u001b[0m\n\u001b[1;32m      5\u001b[0m \u001b[38;5;28;01mfrom\u001b[39;00m \u001b[38;5;21;01m.\u001b[39;00m\u001b[38;5;21;01mlatte\u001b[39;00m \u001b[38;5;28;01mimport\u001b[39;00m Latte_models\n\u001b[1;32m      6\u001b[0m \u001b[38;5;28;01mfrom\u001b[39;00m \u001b[38;5;21;01m.\u001b[39;00m\u001b[38;5;21;01mlatte_img\u001b[39;00m \u001b[38;5;28;01mimport\u001b[39;00m LatteIMG_models\n\u001b[0;32m----> 7\u001b[0m \u001b[38;5;28;01mfrom\u001b[39;00m \u001b[38;5;21;01m.\u001b[39;00m\u001b[38;5;21;01mlatte_t2v\u001b[39;00m \u001b[38;5;28;01mimport\u001b[39;00m LatteT2V\n\u001b[1;32m      9\u001b[0m \u001b[38;5;28;01mfrom\u001b[39;00m \u001b[38;5;21;01mtorch\u001b[39;00m\u001b[38;5;21;01m.\u001b[39;00m\u001b[38;5;21;01moptim\u001b[39;00m\u001b[38;5;21;01m.\u001b[39;00m\u001b[38;5;21;01mlr_scheduler\u001b[39;00m \u001b[38;5;28;01mimport\u001b[39;00m LambdaLR\n\u001b[1;32m     12\u001b[0m \u001b[38;5;28;01mdef\u001b[39;00m \u001b[38;5;21mcustomized_lr_scheduler\u001b[39m(optimizer, warmup_steps\u001b[38;5;241m=\u001b[39m\u001b[38;5;241m5000\u001b[39m): \u001b[38;5;66;03m# 5000 from u-vit\u001b[39;00m\n",
      "File \u001b[0;32m~/projects/ViTSSM/libs/latte/latte/models/latte_t2v.py:11\u001b[0m\n\u001b[1;32m      9\u001b[0m \u001b[38;5;28;01mfrom\u001b[39;00m \u001b[38;5;21;01mdiffusers\u001b[39;00m\u001b[38;5;21;01m.\u001b[39;00m\u001b[38;5;21;01mmodels\u001b[39;00m \u001b[38;5;28;01mimport\u001b[39;00m Transformer2DModel\n\u001b[1;32m     10\u001b[0m \u001b[38;5;28;01mfrom\u001b[39;00m \u001b[38;5;21;01mdiffusers\u001b[39;00m\u001b[38;5;21;01m.\u001b[39;00m\u001b[38;5;21;01mutils\u001b[39;00m \u001b[38;5;28;01mimport\u001b[39;00m USE_PEFT_BACKEND, BaseOutput, deprecate\n\u001b[0;32m---> 11\u001b[0m \u001b[38;5;28;01mfrom\u001b[39;00m \u001b[38;5;21;01mdiffusers\u001b[39;00m\u001b[38;5;21;01m.\u001b[39;00m\u001b[38;5;21;01mmodels\u001b[39;00m\u001b[38;5;21;01m.\u001b[39;00m\u001b[38;5;21;01membeddings\u001b[39;00m \u001b[38;5;28;01mimport\u001b[39;00m get_1d_sincos_pos_embed_from_grid, ImagePositionalEmbeddings, CaptionProjection, PatchEmbed, CombinedTimestepSizeEmbeddings\n\u001b[1;32m     12\u001b[0m \u001b[38;5;28;01mfrom\u001b[39;00m \u001b[38;5;21;01mdiffusers\u001b[39;00m\u001b[38;5;21;01m.\u001b[39;00m\u001b[38;5;21;01mconfiguration_utils\u001b[39;00m \u001b[38;5;28;01mimport\u001b[39;00m ConfigMixin, register_to_config\n\u001b[1;32m     13\u001b[0m \u001b[38;5;28;01mfrom\u001b[39;00m \u001b[38;5;21;01mdiffusers\u001b[39;00m\u001b[38;5;21;01m.\u001b[39;00m\u001b[38;5;21;01mmodels\u001b[39;00m\u001b[38;5;21;01m.\u001b[39;00m\u001b[38;5;21;01mmodeling_utils\u001b[39;00m \u001b[38;5;28;01mimport\u001b[39;00m ModelMixin\n",
      "\u001b[0;31mImportError\u001b[0m: cannot import name 'CaptionProjection' from 'diffusers.models.embeddings' (/home/david/micromamba/envs/vitssm/lib/python3.12/site-packages/diffusers/models/embeddings.py)"
     ]
    }
   ],
   "source": [
    "from vitssm.models.diffusion import create_diffusion\n",
    "import torch.nn as nn\n",
    "import torch\n",
    "\n",
    "diff = create_diffusion(\"trailing4\")\n",
    "diff.betas"
   ]
  },
  {
   "cell_type": "code",
   "execution_count": 12,
   "metadata": {},
   "outputs": [
    {
     "data": {
      "text/html": [
       "Tracking run with wandb version 0.18.3"
      ],
      "text/plain": [
       "<IPython.core.display.HTML object>"
      ]
     },
     "metadata": {},
     "output_type": "display_data"
    },
    {
     "data": {
      "text/html": [
       "Run data is saved locally in <code>/home/david/projects/ViTSSM/wandb/run-20241113_194935-6cnf7h57</code>"
      ],
      "text/plain": [
       "<IPython.core.display.HTML object>"
      ]
     },
     "metadata": {},
     "output_type": "display_data"
    },
    {
     "data": {
      "text/html": [
       "Syncing run <strong><a href='https://wandb.ai/davidkuernsteiner/test/runs/6cnf7h57' target=\"_blank\">royal-waterfall-26</a></strong> to <a href='https://wandb.ai/davidkuernsteiner/test' target=\"_blank\">Weights & Biases</a> (<a href='https://wandb.me/run' target=\"_blank\">docs</a>)<br/>"
      ],
      "text/plain": [
       "<IPython.core.display.HTML object>"
      ]
     },
     "metadata": {},
     "output_type": "display_data"
    },
    {
     "data": {
      "text/html": [
       " View project at <a href='https://wandb.ai/davidkuernsteiner/test' target=\"_blank\">https://wandb.ai/davidkuernsteiner/test</a>"
      ],
      "text/plain": [
       "<IPython.core.display.HTML object>"
      ]
     },
     "metadata": {},
     "output_type": "display_data"
    },
    {
     "data": {
      "text/html": [
       " View run at <a href='https://wandb.ai/davidkuernsteiner/test/runs/6cnf7h57' target=\"_blank\">https://wandb.ai/davidkuernsteiner/test/runs/6cnf7h57</a>"
      ],
      "text/plain": [
       "<IPython.core.display.HTML object>"
      ]
     },
     "metadata": {},
     "output_type": "display_data"
    },
    {
     "data": {
      "application/vnd.jupyter.widget-view+json": {
       "model_id": "689a1fa584c34423b59bb6a94b44b60e",
       "version_major": 2,
       "version_minor": 0
      },
      "text/plain": [
       "VBox(children=(Label(value='0.049 MB of 0.049 MB uploaded\\r'), FloatProgress(value=1.0, max=1.0)))"
      ]
     },
     "metadata": {},
     "output_type": "display_data"
    },
    {
     "data": {
      "text/html": [
       " View run <strong style=\"color:#cdcd00\">royal-waterfall-26</strong> at: <a href='https://wandb.ai/davidkuernsteiner/test/runs/6cnf7h57' target=\"_blank\">https://wandb.ai/davidkuernsteiner/test/runs/6cnf7h57</a><br/> View project at: <a href='https://wandb.ai/davidkuernsteiner/test' target=\"_blank\">https://wandb.ai/davidkuernsteiner/test</a><br/>Synced 5 W&B file(s), 0 media file(s), 2 artifact file(s) and 10 other file(s)"
      ],
      "text/plain": [
       "<IPython.core.display.HTML object>"
      ]
     },
     "metadata": {},
     "output_type": "display_data"
    },
    {
     "data": {
      "text/html": [
       "Find logs at: <code>./wandb/run-20241113_194935-6cnf7h57/logs</code>"
      ],
      "text/plain": [
       "<IPython.core.display.HTML object>"
      ]
     },
     "metadata": {},
     "output_type": "display_data"
    }
   ],
   "source": [
    "import numpy as np\n",
    "import pandas as pd\n",
    "import wandb\n",
    "from vitssm.data import get_dataloaders_next_frame\n",
    "from vitssm.utils.visual import model_output_to_video\n",
    "from omegaconf import OmegaConf\n",
    "import random\n",
    "\n",
    "config = OmegaConf.load(\"configs/DIT/dit_tiny_config.yml\")\n",
    "_, eval_loader = get_dataloaders_next_frame(config.dataset)\n",
    "\n",
    "run = wandb.init(project=\"test\")\n",
    "\n",
    "for step in range(0, 10, 2):\n",
    "    rollout_data = []\n",
    "    roll_steps=[]\n",
    "    for rollout_step in range(1, 65):\n",
    "        rollout_data.append(random.randint(1, 10))\n",
    "        roll_steps.append(rollout_step)\n",
    "    wandb.log({\"ssim\": rollout_data, \"rollout_step\": roll_steps}, step=step)\n",
    "\n",
    "    #table = wandb.Table(data=rollout_data, columns=[\"step\", \"ssim\", \"psnr\"])\n",
    "    # axes are (time, channel, height, width)\n",
    "    frames = next(iter(eval_loader))[1]\n",
    "    run.log(\n",
    "        {\n",
    "            #\"rollout_metrics\": rollout_data,\n",
    "            #\"ssim\": wandb.plot.line(table, x=\"step\", y=\"ssim\", title=\"test over rollout steps\"),\n",
    "            #\"psnr\": wandb.plot.line(table, x=\"step\", y=\"test\", title=\"test over rollout steps\"),\n",
    "            \"rollout: ground truth vs. prediction\": [\n",
    "                wandb.Video(model_output_to_video(frames[step]),fps=4),\n",
    "                wandb.Video(model_output_to_video(frames[step+1]), fps=4),\n",
    "            ],\n",
    "        }, \n",
    "        step=step\n",
    "    )\n",
    "\n",
    "run.finish()"
   ]
  },
  {
   "cell_type": "code",
   "execution_count": 5,
   "metadata": {},
   "outputs": [
    {
     "data": {
      "text/plain": [
       "(16, 32, 32, 3)"
      ]
     },
     "execution_count": 5,
     "metadata": {},
     "output_type": "execute_result"
    }
   ],
   "source": [
    "model_output_to_video(frames[0]).shape"
   ]
  },
  {
   "cell_type": "code",
   "execution_count": 10,
   "metadata": {},
   "outputs": [
    {
     "data": {
      "application/vnd.jupyter.widget-view+json": {
       "model_id": "5af281edcb6748eeac2a63e91f13fa79",
       "version_major": 2,
       "version_minor": 0
      },
      "text/plain": [
       "VBox(children=(Label(value='0.005 MB of 0.005 MB uploaded\\r'), FloatProgress(value=1.0, max=1.0)))"
      ]
     },
     "metadata": {},
     "output_type": "display_data"
    },
    {
     "data": {
      "text/html": [
       " View run <strong style=\"color:#cdcd00\">swept-wildflower-11</strong> at: <a href='https://wandb.ai/davidkuernsteiner/test/runs/3fj68vb9' target=\"_blank\">https://wandb.ai/davidkuernsteiner/test/runs/3fj68vb9</a><br/> View project at: <a href='https://wandb.ai/davidkuernsteiner/test' target=\"_blank\">https://wandb.ai/davidkuernsteiner/test</a><br/>Synced 5 W&B file(s), 0 media file(s), 0 artifact file(s) and 0 other file(s)"
      ],
      "text/plain": [
       "<IPython.core.display.HTML object>"
      ]
     },
     "metadata": {},
     "output_type": "display_data"
    },
    {
     "data": {
      "text/html": [
       "Find logs at: <code>./wandb/run-20241111_165210-3fj68vb9/logs</code>"
      ],
      "text/plain": [
       "<IPython.core.display.HTML object>"
      ]
     },
     "metadata": {},
     "output_type": "display_data"
    }
   ],
   "source": [
    "run.finish()"
   ]
  }
 ],
 "metadata": {
  "kernelspec": {
   "display_name": "vitssm",
   "language": "python",
   "name": "python3"
  },
  "language_info": {
   "codemirror_mode": {
    "name": "ipython",
    "version": 3
   },
   "file_extension": ".py",
   "mimetype": "text/x-python",
   "name": "python",
   "nbconvert_exporter": "python",
   "pygments_lexer": "ipython3",
   "version": "3.12.7"
  }
 },
 "nbformat": 4,
 "nbformat_minor": 2
}
