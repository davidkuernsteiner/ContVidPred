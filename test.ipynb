{
 "cells": [
  {
   "cell_type": "code",
   "id": "initial_id",
   "metadata": {
    "collapsed": true,
    "ExecuteTime": {
     "end_time": "2024-05-28T10:54:50.599878Z",
     "start_time": "2024-05-28T10:54:50.595354Z"
    }
   },
   "source": [
    "from torchvision.datasets import MovingMNIST, Kinetics\n",
    "import os"
   ],
   "outputs": [],
   "execution_count": 7
  },
  {
   "metadata": {
    "ExecuteTime": {
     "end_time": "2024-06-01T12:41:33.583613Z",
     "start_time": "2024-06-01T12:41:31.049522Z"
    }
   },
   "cell_type": "code",
   "source": [
    "from vitssm.data import build_dataset\n",
    "from addict import Dict\n",
    "import kappaconfig as kc\n",
    "import os\n",
    "\n",
    "config = kc.from_file_uri(os.path.join(\"configs\", \"base_config.yml\"))\n",
    "res = kc.DefaultResolver()\n",
    "config = Dict(res.resolve(config))\n",
    "\n",
    "dataset = build_dataset(config)"
   ],
   "id": "bb498001513a97f0",
   "outputs": [
    {
     "ename": "IndexError",
     "evalue": "list index out of range",
     "output_type": "error",
     "traceback": [
      "\u001B[0;31m---------------------------------------------------------------------------\u001B[0m",
      "\u001B[0;31mIndexError\u001B[0m                                Traceback (most recent call last)",
      "Cell \u001B[0;32mIn[1], line 8\u001B[0m\n\u001B[1;32m      6\u001B[0m config \u001B[38;5;241m=\u001B[39m kc\u001B[38;5;241m.\u001B[39mfrom_file_uri(os\u001B[38;5;241m.\u001B[39mpath\u001B[38;5;241m.\u001B[39mjoin(\u001B[38;5;124m\"\u001B[39m\u001B[38;5;124mconfigs\u001B[39m\u001B[38;5;124m\"\u001B[39m, \u001B[38;5;124m\"\u001B[39m\u001B[38;5;124mbase_config.yml\u001B[39m\u001B[38;5;124m\"\u001B[39m))\n\u001B[1;32m      7\u001B[0m res \u001B[38;5;241m=\u001B[39m kc\u001B[38;5;241m.\u001B[39mDefaultResolver()\n\u001B[0;32m----> 8\u001B[0m config \u001B[38;5;241m=\u001B[39m Dict(\u001B[43mres\u001B[49m\u001B[38;5;241;43m.\u001B[39;49m\u001B[43mresolve\u001B[49m\u001B[43m(\u001B[49m\u001B[43mconfig\u001B[49m\u001B[43m)\u001B[49m)\n\u001B[1;32m     10\u001B[0m dataset \u001B[38;5;241m=\u001B[39m build_dataset(config)\n",
      "File \u001B[0;32m~/micromamba/envs/jku_ocl/lib/python3.11/site-packages/kappaconfig/resolvers/resolver.py:33\u001B[0m, in \u001B[0;36mResolver.resolve\u001B[0;34m(self, node, root_node)\u001B[0m\n\u001B[1;32m     31\u001B[0m root_node_to_pass \u001B[38;5;241m=\u001B[39m pre_processed \u001B[38;5;28;01mif\u001B[39;00m root_node \u001B[38;5;129;01mis\u001B[39;00m \u001B[38;5;28;01mNone\u001B[39;00m \u001B[38;5;28;01melse\u001B[39;00m root_node\n\u001B[1;32m     32\u001B[0m wrapped_node \u001B[38;5;241m=\u001B[39m KCDict(root\u001B[38;5;241m=\u001B[39mpre_processed)\n\u001B[0;32m---> 33\u001B[0m \u001B[38;5;28;43mself\u001B[39;49m\u001B[38;5;241;43m.\u001B[39;49m\u001B[43m_resolve_collection\u001B[49m\u001B[43m(\u001B[49m\n\u001B[1;32m     34\u001B[0m \u001B[43m    \u001B[49m\u001B[43mpre_processed\u001B[49m\u001B[43m,\u001B[49m\n\u001B[1;32m     35\u001B[0m \u001B[43m    \u001B[49m\u001B[43mroot_node\u001B[49m\u001B[38;5;241;43m=\u001B[39;49m\u001B[43mroot_node_to_pass\u001B[49m\u001B[43m,\u001B[49m\n\u001B[1;32m     36\u001B[0m \u001B[43m    \u001B[49m\u001B[43mresult\u001B[49m\u001B[38;5;241;43m=\u001B[39;49m\u001B[43mresult\u001B[49m\u001B[43m,\u001B[49m\n\u001B[1;32m     37\u001B[0m \u001B[43m    \u001B[49m\u001B[43mtrace\u001B[49m\u001B[38;5;241;43m=\u001B[39;49m\u001B[43m[\u001B[49m\u001B[43m(\u001B[49m\u001B[43mwrapped_node\u001B[49m\u001B[43m,\u001B[49m\u001B[43m \u001B[49m\u001B[38;5;124;43m\"\u001B[39;49m\u001B[38;5;124;43mroot\u001B[39;49m\u001B[38;5;124;43m\"\u001B[39;49m\u001B[43m)\u001B[49m\u001B[43m]\u001B[49m\u001B[43m,\u001B[49m\n\u001B[1;32m     38\u001B[0m \u001B[43m\u001B[49m\u001B[43m)\u001B[49m\n\u001B[1;32m     39\u001B[0m processed_result \u001B[38;5;241m=\u001B[39m result[\u001B[38;5;124m\"\u001B[39m\u001B[38;5;124mroot\u001B[39m\u001B[38;5;124m\"\u001B[39m]\n\u001B[1;32m     40\u001B[0m \u001B[38;5;66;03m# only postprocess from root call (e.g. template resolver also calls resolve but with a root_node parameter)\u001B[39;00m\n",
      "File \u001B[0;32m~/micromamba/envs/jku_ocl/lib/python3.11/site-packages/kappaconfig/resolvers/resolver.py:67\u001B[0m, in \u001B[0;36mResolver._resolve_collection\u001B[0;34m(self, node, root_node, result, trace)\u001B[0m\n\u001B[1;32m     65\u001B[0m \u001B[38;5;28;01mfor\u001B[39;00m accessor, subnode \u001B[38;5;129;01min\u001B[39;00m node\u001B[38;5;241m.\u001B[39mdict\u001B[38;5;241m.\u001B[39mitems():\n\u001B[1;32m     66\u001B[0m     trace\u001B[38;5;241m.\u001B[39mappend((node, accessor))\n\u001B[0;32m---> 67\u001B[0m     \u001B[38;5;28;43mself\u001B[39;49m\u001B[38;5;241;43m.\u001B[39;49m\u001B[43m_resolve_collection\u001B[49m\u001B[43m(\u001B[49m\u001B[43msubnode\u001B[49m\u001B[43m,\u001B[49m\u001B[43m \u001B[49m\u001B[43mroot_node\u001B[49m\u001B[38;5;241;43m=\u001B[39;49m\u001B[43mroot_node\u001B[49m\u001B[43m,\u001B[49m\u001B[43m \u001B[49m\u001B[43mresult\u001B[49m\u001B[38;5;241;43m=\u001B[39;49m\u001B[43mresult\u001B[49m\u001B[43m[\u001B[49m\u001B[43mparent_accessor\u001B[49m\u001B[43m]\u001B[49m\u001B[43m,\u001B[49m\u001B[43m \u001B[49m\u001B[43mtrace\u001B[49m\u001B[38;5;241;43m=\u001B[39;49m\u001B[43mtrace\u001B[49m\u001B[43m)\u001B[49m\n\u001B[1;32m     68\u001B[0m     trace\u001B[38;5;241m.\u001B[39mpop()\n\u001B[1;32m     70\u001B[0m \u001B[38;5;66;03m# postorder\u001B[39;00m\n",
      "File \u001B[0;32m~/micromamba/envs/jku_ocl/lib/python3.11/site-packages/kappaconfig/resolvers/resolver.py:67\u001B[0m, in \u001B[0;36mResolver._resolve_collection\u001B[0;34m(self, node, root_node, result, trace)\u001B[0m\n\u001B[1;32m     65\u001B[0m \u001B[38;5;28;01mfor\u001B[39;00m accessor, subnode \u001B[38;5;129;01min\u001B[39;00m node\u001B[38;5;241m.\u001B[39mdict\u001B[38;5;241m.\u001B[39mitems():\n\u001B[1;32m     66\u001B[0m     trace\u001B[38;5;241m.\u001B[39mappend((node, accessor))\n\u001B[0;32m---> 67\u001B[0m     \u001B[38;5;28;43mself\u001B[39;49m\u001B[38;5;241;43m.\u001B[39;49m\u001B[43m_resolve_collection\u001B[49m\u001B[43m(\u001B[49m\u001B[43msubnode\u001B[49m\u001B[43m,\u001B[49m\u001B[43m \u001B[49m\u001B[43mroot_node\u001B[49m\u001B[38;5;241;43m=\u001B[39;49m\u001B[43mroot_node\u001B[49m\u001B[43m,\u001B[49m\u001B[43m \u001B[49m\u001B[43mresult\u001B[49m\u001B[38;5;241;43m=\u001B[39;49m\u001B[43mresult\u001B[49m\u001B[43m[\u001B[49m\u001B[43mparent_accessor\u001B[49m\u001B[43m]\u001B[49m\u001B[43m,\u001B[49m\u001B[43m \u001B[49m\u001B[43mtrace\u001B[49m\u001B[38;5;241;43m=\u001B[39;49m\u001B[43mtrace\u001B[49m\u001B[43m)\u001B[49m\n\u001B[1;32m     68\u001B[0m     trace\u001B[38;5;241m.\u001B[39mpop()\n\u001B[1;32m     70\u001B[0m \u001B[38;5;66;03m# postorder\u001B[39;00m\n",
      "File \u001B[0;32m~/micromamba/envs/jku_ocl/lib/python3.11/site-packages/kappaconfig/resolvers/resolver.py:67\u001B[0m, in \u001B[0;36mResolver._resolve_collection\u001B[0;34m(self, node, root_node, result, trace)\u001B[0m\n\u001B[1;32m     65\u001B[0m \u001B[38;5;28;01mfor\u001B[39;00m accessor, subnode \u001B[38;5;129;01min\u001B[39;00m node\u001B[38;5;241m.\u001B[39mdict\u001B[38;5;241m.\u001B[39mitems():\n\u001B[1;32m     66\u001B[0m     trace\u001B[38;5;241m.\u001B[39mappend((node, accessor))\n\u001B[0;32m---> 67\u001B[0m     \u001B[38;5;28;43mself\u001B[39;49m\u001B[38;5;241;43m.\u001B[39;49m\u001B[43m_resolve_collection\u001B[49m\u001B[43m(\u001B[49m\u001B[43msubnode\u001B[49m\u001B[43m,\u001B[49m\u001B[43m \u001B[49m\u001B[43mroot_node\u001B[49m\u001B[38;5;241;43m=\u001B[39;49m\u001B[43mroot_node\u001B[49m\u001B[43m,\u001B[49m\u001B[43m \u001B[49m\u001B[43mresult\u001B[49m\u001B[38;5;241;43m=\u001B[39;49m\u001B[43mresult\u001B[49m\u001B[43m[\u001B[49m\u001B[43mparent_accessor\u001B[49m\u001B[43m]\u001B[49m\u001B[43m,\u001B[49m\u001B[43m \u001B[49m\u001B[43mtrace\u001B[49m\u001B[38;5;241;43m=\u001B[39;49m\u001B[43mtrace\u001B[49m\u001B[43m)\u001B[49m\n\u001B[1;32m     68\u001B[0m     trace\u001B[38;5;241m.\u001B[39mpop()\n\u001B[1;32m     70\u001B[0m \u001B[38;5;66;03m# postorder\u001B[39;00m\n",
      "File \u001B[0;32m~/micromamba/envs/jku_ocl/lib/python3.11/site-packages/kappaconfig/resolvers/resolver.py:109\u001B[0m, in \u001B[0;36mResolver._resolve_collection\u001B[0;34m(self, node, root_node, result, trace)\u001B[0m\n\u001B[1;32m    107\u001B[0m scalar_resolver_trace\u001B[38;5;241m.\u001B[39mappend(resolve_result)\n\u001B[1;32m    108\u001B[0m resolve_result \u001B[38;5;241m=\u001B[39m \u001B[38;5;28mself\u001B[39m\u001B[38;5;241m.\u001B[39mresolve_scalar(resolve_result, root_node\u001B[38;5;241m=\u001B[39mroot_node, trace\u001B[38;5;241m=\u001B[39mtrace)\n\u001B[0;32m--> 109\u001B[0m \u001B[38;5;28;01mif\u001B[39;00m \u001B[38;5;129;01mnot\u001B[39;00m \u001B[38;5;28misinstance\u001B[39m(resolve_result, \u001B[38;5;28mstr\u001B[39m) \u001B[38;5;129;01mor\u001B[39;00m \u001B[38;5;129;01mnot\u001B[39;00m \u001B[38;5;28;43mself\u001B[39;49m\u001B[38;5;241;43m.\u001B[39;49m\u001B[43m_requires_resolve_scalar\u001B[49m\u001B[43m(\u001B[49m\u001B[43mresolve_result\u001B[49m\u001B[43m)\u001B[49m:\n\u001B[1;32m    110\u001B[0m     \u001B[38;5;28;01mbreak\u001B[39;00m\n\u001B[1;32m    111\u001B[0m \u001B[38;5;66;03m# check for recursive resolving\u001B[39;00m\n",
      "File \u001B[0;32m~/micromamba/envs/jku_ocl/lib/python3.11/site-packages/kappaconfig/resolvers/resolver.py:146\u001B[0m, in \u001B[0;36mResolver._requires_resolve_scalar\u001B[0;34m(value)\u001B[0m\n\u001B[1;32m    143\u001B[0m \u001B[38;5;129m@staticmethod\u001B[39m\n\u001B[1;32m    144\u001B[0m \u001B[38;5;28;01mdef\u001B[39;00m \u001B[38;5;21m_requires_resolve_scalar\u001B[39m(value):\n\u001B[1;32m    145\u001B[0m     grammar_tree \u001B[38;5;241m=\u001B[39m parse_scalar(value)\n\u001B[0;32m--> 146\u001B[0m     \u001B[38;5;28;01mreturn\u001B[39;00m \u001B[38;5;28mlen\u001B[39m(grammar_tree\u001B[38;5;241m.\u001B[39mchildren) \u001B[38;5;241m>\u001B[39m \u001B[38;5;241m1\u001B[39m \u001B[38;5;129;01mor\u001B[39;00m \u001B[38;5;28misinstance\u001B[39m(\u001B[43mgrammar_tree\u001B[49m\u001B[38;5;241;43m.\u001B[39;49m\u001B[43mchildren\u001B[49m\u001B[43m[\u001B[49m\u001B[38;5;241;43m0\u001B[39;49m\u001B[43m]\u001B[49m, InterpolatedNode)\n",
      "\u001B[0;31mIndexError\u001B[0m: list index out of range"
     ]
    }
   ],
   "execution_count": 1
  },
  {
   "metadata": {
    "ExecuteTime": {
     "end_time": "2024-05-28T10:54:04.177290Z",
     "start_time": "2024-05-28T10:54:04.163653Z"
    }
   },
   "cell_type": "code",
   "source": "dataset",
   "id": "bcd0ac6bd1ed53a4",
   "outputs": [
    {
     "ename": "NameError",
     "evalue": "name 'dataset' is not defined",
     "output_type": "error",
     "traceback": [
      "\u001B[0;31m---------------------------------------------------------------------------\u001B[0m",
      "\u001B[0;31mNameError\u001B[0m                                 Traceback (most recent call last)",
      "Cell \u001B[0;32mIn[5], line 1\u001B[0m\n\u001B[0;32m----> 1\u001B[0m \u001B[43mdataset\u001B[49m\n",
      "\u001B[0;31mNameError\u001B[0m: name 'dataset' is not defined"
     ]
    }
   ],
   "execution_count": 5
  },
  {
   "metadata": {
    "ExecuteTime": {
     "end_time": "2024-05-17T10:33:46.719264Z",
     "start_time": "2024-05-17T10:33:46.709800Z"
    }
   },
   "cell_type": "code",
   "source": "train_dataset[0].permute(0, 2, 3, 1).repeat(1, 1, 1, 3).shape",
   "id": "33b0a9cf007aff2a",
   "outputs": [
    {
     "data": {
      "text/plain": [
       "torch.Size([10, 64, 64, 3])"
      ]
     },
     "execution_count": 8,
     "metadata": {},
     "output_type": "execute_result"
    }
   ],
   "execution_count": 8
  },
  {
   "metadata": {
    "ExecuteTime": {
     "end_time": "2024-05-17T10:33:52.225042Z",
     "start_time": "2024-05-17T10:33:52.209311Z"
    }
   },
   "cell_type": "code",
   "source": [
    "from torchvision.io import write_video\n",
    "\n",
    "write_video(\"test.mp4\", train_dataset[0].permute(0, 2, 3, 1).repeat(1, 1, 1, 3), fps=10)"
   ],
   "id": "9ecb78a7e053d5de",
   "outputs": [],
   "execution_count": 9
  },
  {
   "metadata": {},
   "cell_type": "code",
   "outputs": [],
   "execution_count": null,
   "source": "",
   "id": "a97129b3644ccf05"
  }
 ],
 "metadata": {
  "kernelspec": {
   "display_name": "Python 3",
   "language": "python",
   "name": "python3"
  },
  "language_info": {
   "codemirror_mode": {
    "name": "ipython",
    "version": 2
   },
   "file_extension": ".py",
   "mimetype": "text/x-python",
   "name": "python",
   "nbconvert_exporter": "python",
   "pygments_lexer": "ipython2",
   "version": "2.7.6"
  }
 },
 "nbformat": 4,
 "nbformat_minor": 5
}
